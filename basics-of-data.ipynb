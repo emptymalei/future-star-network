{
 "cells": [
  {
   "cell_type": "markdown",
   "source": "## Loading and Visualizing Stellar Catalog",
   "metadata": {
    "cell_id": "38af9f47-422e-489a-ba27-e36954048ae0",
    "deepnote_cell_type": "markdown"
   }
  },
  {
   "cell_type": "markdown",
   "source": "Tools used:\n\n1. pandas",
   "metadata": {
    "cell_id": "00002-0c643a92-b09e-4372-8192-fa4bcda98bc0",
    "deepnote_cell_type": "markdown"
   }
  },
  {
   "cell_type": "code",
   "metadata": {
    "collapsed": true,
    "cell_id": "00003-0792b1b6-e78c-4772-aec4-706a1a06f24d",
    "deepnote_to_be_reexecuted": false,
    "source_hash": "110dd48d",
    "execution_start": 1643559855006,
    "execution_millis": 1731,
    "deepnote_cell_type": "code"
   },
   "source": "import pandas as pd\n\nimport numpy as np\n\nimport matplotlib.pyplot as plt\n\nimport matplotlib\n\nmatplotlib.style.use('ggplot')\n\nfrom scipy.spatial.distance import pdist, squareform\n\nimport networkx as nx",
   "execution_count": 1,
   "outputs": []
  },
  {
   "cell_type": "markdown",
   "source": "I have downloaded the coordinate for stars from [this post](http://allthingsgraphed.com/2014/12/05/stellar-navigation-using-network-analysis/#data).\n\nUsing pandas I can load the data into DataFrame.",
   "metadata": {
    "cell_id": "00004-934fdd87-63b7-4a45-b8ab-48e0a3826826",
    "deepnote_cell_type": "markdown"
   }
  },
  {
   "cell_type": "code",
   "metadata": {
    "collapsed": false,
    "cell_id": "00005-125ec19a-15d8-4535-8c86-f666d04d1324",
    "deepnote_to_be_reexecuted": false,
    "source_hash": "fdcb7a78",
    "execution_start": 1643559856743,
    "execution_millis": 16,
    "deepnote_cell_type": "code"
   },
   "source": "stars=pd.read_csv('assets/stars.csv')",
   "execution_count": 2,
   "outputs": []
  },
  {
   "cell_type": "markdown",
   "source": "I need to know what unit they are using. So I sort the data frame according to distance. The result shows that GI551, which is proxima centari, is 4.226 distance away from Sun. Then I know the unit is lightyear.",
   "metadata": {
    "cell_id": "00006-60f929cc-3c21-486b-896e-1ee0de534d56",
    "deepnote_cell_type": "markdown"
   }
  },
  {
   "cell_type": "code",
   "metadata": {
    "collapsed": false,
    "cell_id": "00007-1ce05738-9d31-4cff-99c7-e6293ab9bd6f",
    "deepnote_to_be_reexecuted": false,
    "source_hash": "ee1bfab2",
    "deepnote_output_heights": [
     611
    ],
    "execution_start": 1643559856810,
    "execution_millis": 88,
    "deepnote_cell_type": "code"
   },
   "source": "stars.sort_values('dist', ascending=True)",
   "execution_count": 3,
   "outputs": [
    {
     "output_type": "execute_result",
     "execution_count": 3,
     "data": {
      "application/vnd.deepnote.dataframe.v3+json": {
       "column_count": 7,
       "row_count": 2223,
       "columns": [
        {
         "name": "#Name",
         "dtype": "object",
         "stats": {
          "unique_count": 2223,
          "nan_count": 0,
          "categories": [
           {
            "name": "Sun",
            "count": 1
           },
           {
            "name": "Gl-551",
            "count": 1
           },
           {
            "name": "2221 others",
            "count": 2221
           }
          ]
         }
        },
        {
         "name": "x-pos",
         "dtype": "float64",
         "stats": {
          "unique_count": 2167,
          "nan_count": 0,
          "min": "-70.9303",
          "max": "73.3303",
          "histogram": [
           {
            "bin_start": -70.9303,
            "bin_end": -56.50424,
            "count": 72
           },
           {
            "bin_start": -56.50424,
            "bin_end": -42.07818,
            "count": 180
           },
           {
            "bin_start": -42.07818,
            "bin_end": -27.652119999999996,
            "count": 241
           },
           {
            "bin_start": -27.652119999999996,
            "bin_end": -13.226059999999997,
            "count": 320
           },
           {
            "bin_start": -13.226059999999997,
            "bin_end": 1.2000000000000028,
            "count": 340
           },
           {
            "bin_start": 1.2000000000000028,
            "bin_end": 15.62606000000001,
            "count": 376
           },
           {
            "bin_start": 15.62606000000001,
            "bin_end": 30.052120000000002,
            "count": 309
           },
           {
            "bin_start": 30.052120000000002,
            "bin_end": 44.47818000000001,
            "count": 210
           },
           {
            "bin_start": 44.47818000000001,
            "bin_end": 58.90424,
            "count": 138
           },
           {
            "bin_start": 58.90424,
            "bin_end": 73.3303,
            "count": 37
           }
          ]
         }
        },
        {
         "name": "y-pos",
         "dtype": "float64",
         "stats": {
          "unique_count": 2170,
          "nan_count": 0,
          "min": "-72.2853",
          "max": "73.3182",
          "histogram": [
           {
            "bin_start": -72.2853,
            "bin_end": -57.72495000000001,
            "count": 41
           },
           {
            "bin_start": -57.72495000000001,
            "bin_end": -43.16460000000001,
            "count": 117
           },
           {
            "bin_start": -43.16460000000001,
            "bin_end": -28.604250000000008,
            "count": 184
           },
           {
            "bin_start": -28.604250000000008,
            "bin_end": -14.043900000000008,
            "count": 297
           },
           {
            "bin_start": -14.043900000000008,
            "bin_end": 0.5164499999999919,
            "count": 420
           },
           {
            "bin_start": 0.5164499999999919,
            "bin_end": 15.076799999999992,
            "count": 361
           },
           {
            "bin_start": 15.076799999999992,
            "bin_end": 29.63714999999999,
            "count": 344
           },
           {
            "bin_start": 29.63714999999999,
            "bin_end": 44.19749999999999,
            "count": 234
           },
           {
            "bin_start": 44.19749999999999,
            "bin_end": 58.75784999999999,
            "count": 157
           },
           {
            "bin_start": 58.75784999999999,
            "bin_end": 73.3182,
            "count": 68
           }
          ]
         }
        },
        {
         "name": "z-pos",
         "dtype": "float64",
         "stats": {
          "unique_count": 2170,
          "nan_count": 0,
          "min": "-74.6168",
          "max": "74.2721",
          "histogram": [
           {
            "bin_start": -74.6168,
            "bin_end": -59.72791,
            "count": 73
           },
           {
            "bin_start": -59.72791,
            "bin_end": -44.839020000000005,
            "count": 165
           },
           {
            "bin_start": -44.839020000000005,
            "bin_end": -29.95013,
            "count": 271
           },
           {
            "bin_start": -29.95013,
            "bin_end": -15.061240000000005,
            "count": 329
           },
           {
            "bin_start": -15.061240000000005,
            "bin_end": -0.17235000000000866,
            "count": 340
           },
           {
            "bin_start": -0.17235000000000866,
            "bin_end": 14.716539999999995,
            "count": 324
           },
           {
            "bin_start": 14.716539999999995,
            "bin_end": 29.605429999999984,
            "count": 271
           },
           {
            "bin_start": 29.605429999999984,
            "bin_end": 44.49431999999999,
            "count": 246
           },
           {
            "bin_start": 44.49431999999999,
            "bin_end": 59.38320999999998,
            "count": 144
           },
           {
            "bin_start": 59.38320999999998,
            "bin_end": 74.2721,
            "count": 60
           }
          ]
         }
        },
        {
         "name": "dist",
         "dtype": "float64",
         "stats": {
          "unique_count": 651,
          "nan_count": 0,
          "min": "0.0",
          "max": "74.9801",
          "histogram": [
           {
            "bin_start": 0,
            "bin_end": 7.498009999999999,
            "count": 5
           },
           {
            "bin_start": 7.498009999999999,
            "bin_end": 14.996019999999998,
            "count": 39
           },
           {
            "bin_start": 14.996019999999998,
            "bin_end": 22.494029999999995,
            "count": 80
           },
           {
            "bin_start": 22.494029999999995,
            "bin_end": 29.992039999999996,
            "count": 113
           },
           {
            "bin_start": 29.992039999999996,
            "bin_end": 37.49005,
            "count": 162
           },
           {
            "bin_start": 37.49005,
            "bin_end": 44.98805999999999,
            "count": 255
           },
           {
            "bin_start": 44.98805999999999,
            "bin_end": 52.48606999999999,
            "count": 324
           },
           {
            "bin_start": 52.48606999999999,
            "bin_end": 59.98407999999999,
            "count": 376
           },
           {
            "bin_start": 59.98407999999999,
            "bin_end": 67.48208999999999,
            "count": 422
           },
           {
            "bin_start": 67.48208999999999,
            "bin_end": 74.9801,
            "count": 447
           }
          ]
         }
        },
        {
         "name": "bright",
         "dtype": "object",
         "stats": {
          "unique_count": 734,
          "nan_count": 0,
          "categories": [
           {
            "name": "0.0001",
            "count": 66
           },
           {
            "name": "0.0002",
            "count": 58
           },
           {
            "name": "732 others",
            "count": 2099
           }
          ]
         }
        },
        {
         "name": "temp",
         "dtype": "float64",
         "stats": {
          "unique_count": 206,
          "nan_count": 14,
          "min": "2956.9222",
          "max": "9882.4225",
          "histogram": [
           {
            "bin_start": 2956.9222,
            "bin_end": 3649.4722300000003,
            "count": 360
           },
           {
            "bin_start": 3649.4722300000003,
            "bin_end": 4342.02226,
            "count": 901
           },
           {
            "bin_start": 4342.02226,
            "bin_end": 5034.57229,
            "count": 281
           },
           {
            "bin_start": 5034.57229,
            "bin_end": 5727.12232,
            "count": 231
           },
           {
            "bin_start": 5727.12232,
            "bin_end": 6419.672350000001,
            "count": 211
           },
           {
            "bin_start": 6419.672350000001,
            "bin_end": 7112.22238,
            "count": 102
           },
           {
            "bin_start": 7112.22238,
            "bin_end": 7804.7724100000005,
            "count": 51
           },
           {
            "bin_start": 7804.7724100000005,
            "bin_end": 8497.32244,
            "count": 30
           },
           {
            "bin_start": 8497.32244,
            "bin_end": 9189.872470000002,
            "count": 19
           },
           {
            "bin_start": 9189.872470000002,
            "bin_end": 9882.4225,
            "count": 23
           }
          ]
         }
        },
        {
         "name": "_deepnote_index_column",
         "dtype": "int64"
        }
       ],
       "rows": [
        {
         "#Name": "Sun",
         "x-pos": 0,
         "y-pos": 0,
         "z-pos": 0,
         "dist": 0,
         "bright": "1.0000",
         "temp": 5778.4237,
         "_deepnote_index_column": 0
        },
        {
         "#Name": "Gl-551",
         "x-pos": 2.9331,
         "y-pos": -3.039,
         "z-pos": 0.1443,
         "dist": 4.226,
         "bright": "0.0001",
         "temp": 3356.3732,
         "_deepnote_index_column": 78
        },
        {
         "#Name": "Gl-559A",
         "x-pos": 3.1203,
         "y-pos": -3.0371,
         "z-pos": 0.0539,
         "dist": 4.3547,
         "bright": "1.5417",
         "temp": 5815.2137,
         "_deepnote_index_column": 97
        },
        {
         "#Name": "Gl-559B",
         "x-pos": 3.1203,
         "y-pos": -3.0371,
         "z-pos": 0.0539,
         "dist": 4.3547,
         "bright": "0.4529",
         "temp": 5162.939,
         "_deepnote_index_column": 96
        },
        {
         "#Name": "Gl-699",
         "x-pos": 4.9811,
         "y-pos": 2.9792,
         "z-pos": -1.4457,
         "dist": 5.9814,
         "bright": "0.0004",
         "temp": 3464.9272,
         "_deepnote_index_column": 1078
        },
        {
         "#Name": "Gl-406",
         "x-pos": -1.8978,
         "y-pos": -3.9022,
         "z-pos": -6.4784,
         "dist": 7.7974,
         "bright": "0.0000",
         "temp": 3169.3537,
         "_deepnote_index_column": 1141
        },
        {
         "#Name": "Gl-411",
         "x-pos": -3.4014,
         "y-pos": -0.2952,
         "z-pos": -7.4659,
         "dist": 8.2095,
         "bright": "0.0056",
         "temp": 3778.5271,
         "_deepnote_index_column": 1722
        },
        {
         "#Name": "Gl-65A",
         "x-pos": -2.1037,
         "y-pos": 0.1698,
         "z-pos": 8.3034,
         "dist": 8.5675,
         "bright": "0.0001",
         "temp": 3333.1966,
         "_deepnote_index_column": 636
        },
        {
         "#Name": "Gl-244A",
         "x-pos": -5.7538,
         "y-pos": -6.2178,
         "z-pos": 1.3229,
         "dist": 8.5742,
         "bright": "40.179110125.2372",
         "temp": "nan",
         "_deepnote_index_column": 657
        },
        {
         "#Name": "Gl-244B",
         "x-pos": -5.7538,
         "y-pos": -6.2178,
         "z-pos": 1.3229,
         "dist": 8.5742,
         "bright": "0.004710515.5618",
         "temp": "nan",
         "_deepnote_index_column": 656
        }
       ]
      },
      "text/plain": "         #Name    x-pos    y-pos    z-pos     dist  bright       temp\n0          Sun   0.0000   0.0000   0.0000   0.0000  1.0000  5778.4237\n78      Gl-551   2.9331  -3.0390   0.1443   4.2260  0.0001  3356.3732\n97     Gl-559A   3.1203  -3.0371   0.0539   4.3547  1.5417  5815.2137\n96     Gl-559B   3.1203  -3.0371   0.0539   4.3547  0.4529  5162.9390\n1078    Gl-699   4.9811   2.9792  -1.4457   5.9814  0.0004  3464.9272\n...        ...      ...      ...      ...      ...     ...        ...\n675    Wo-9666  64.5812  29.5029  23.5606  74.8081  3.3729  6576.0503\n1453  Gl-499.1   6.9555  -2.4428 -74.6168  74.9801  2.6303  3662.9729\n1934  Wo-9648A  11.6078  70.6536 -22.2562  74.9801  1.0864  5778.4237\n1933  Wo-9648B  11.6109  70.6523 -22.2586  74.9801  0.9204  5778.4237\n210    Wo-9691  60.5598 -11.6249  42.6543  74.9801  1.5417  6170.4797\n\n[2223 rows x 7 columns]",
      "text/html": "<div>\n<style scoped>\n    .dataframe tbody tr th:only-of-type {\n        vertical-align: middle;\n    }\n\n    .dataframe tbody tr th {\n        vertical-align: top;\n    }\n\n    .dataframe thead th {\n        text-align: right;\n    }\n</style>\n<table border=\"1\" class=\"dataframe\">\n  <thead>\n    <tr style=\"text-align: right;\">\n      <th></th>\n      <th>#Name</th>\n      <th>x-pos</th>\n      <th>y-pos</th>\n      <th>z-pos</th>\n      <th>dist</th>\n      <th>bright</th>\n      <th>temp</th>\n    </tr>\n  </thead>\n  <tbody>\n    <tr>\n      <th>0</th>\n      <td>Sun</td>\n      <td>0.0000</td>\n      <td>0.0000</td>\n      <td>0.0000</td>\n      <td>0.0000</td>\n      <td>1.0000</td>\n      <td>5778.4237</td>\n    </tr>\n    <tr>\n      <th>78</th>\n      <td>Gl-551</td>\n      <td>2.9331</td>\n      <td>-3.0390</td>\n      <td>0.1443</td>\n      <td>4.2260</td>\n      <td>0.0001</td>\n      <td>3356.3732</td>\n    </tr>\n    <tr>\n      <th>97</th>\n      <td>Gl-559A</td>\n      <td>3.1203</td>\n      <td>-3.0371</td>\n      <td>0.0539</td>\n      <td>4.3547</td>\n      <td>1.5417</td>\n      <td>5815.2137</td>\n    </tr>\n    <tr>\n      <th>96</th>\n      <td>Gl-559B</td>\n      <td>3.1203</td>\n      <td>-3.0371</td>\n      <td>0.0539</td>\n      <td>4.3547</td>\n      <td>0.4529</td>\n      <td>5162.9390</td>\n    </tr>\n    <tr>\n      <th>1078</th>\n      <td>Gl-699</td>\n      <td>4.9811</td>\n      <td>2.9792</td>\n      <td>-1.4457</td>\n      <td>5.9814</td>\n      <td>0.0004</td>\n      <td>3464.9272</td>\n    </tr>\n    <tr>\n      <th>...</th>\n      <td>...</td>\n      <td>...</td>\n      <td>...</td>\n      <td>...</td>\n      <td>...</td>\n      <td>...</td>\n      <td>...</td>\n    </tr>\n    <tr>\n      <th>675</th>\n      <td>Wo-9666</td>\n      <td>64.5812</td>\n      <td>29.5029</td>\n      <td>23.5606</td>\n      <td>74.8081</td>\n      <td>3.3729</td>\n      <td>6576.0503</td>\n    </tr>\n    <tr>\n      <th>1453</th>\n      <td>Gl-499.1</td>\n      <td>6.9555</td>\n      <td>-2.4428</td>\n      <td>-74.6168</td>\n      <td>74.9801</td>\n      <td>2.6303</td>\n      <td>3662.9729</td>\n    </tr>\n    <tr>\n      <th>1934</th>\n      <td>Wo-9648A</td>\n      <td>11.6078</td>\n      <td>70.6536</td>\n      <td>-22.2562</td>\n      <td>74.9801</td>\n      <td>1.0864</td>\n      <td>5778.4237</td>\n    </tr>\n    <tr>\n      <th>1933</th>\n      <td>Wo-9648B</td>\n      <td>11.6109</td>\n      <td>70.6523</td>\n      <td>-22.2586</td>\n      <td>74.9801</td>\n      <td>0.9204</td>\n      <td>5778.4237</td>\n    </tr>\n    <tr>\n      <th>210</th>\n      <td>Wo-9691</td>\n      <td>60.5598</td>\n      <td>-11.6249</td>\n      <td>42.6543</td>\n      <td>74.9801</td>\n      <td>1.5417</td>\n      <td>6170.4797</td>\n    </tr>\n  </tbody>\n</table>\n<p>2223 rows × 7 columns</p>\n</div>"
     },
     "metadata": {}
    }
   ]
  },
  {
   "cell_type": "markdown",
   "source": "To have a sense of the distribution, we can plot some histograms.",
   "metadata": {
    "cell_id": "00008-d2e791d2-9089-4f89-9ddb-14fae9f2156d",
    "deepnote_cell_type": "markdown"
   }
  },
  {
   "cell_type": "code",
   "metadata": {
    "collapsed": false,
    "cell_id": "00009-8cea43d8-64b8-4884-9756-240f8c57cbbc",
    "deepnote_to_be_reexecuted": false,
    "source_hash": "34ce4ecb",
    "deepnote_output_heights": [
     232
    ],
    "execution_start": 1643560111753,
    "execution_millis": 5,
    "deepnote_cell_type": "code"
   },
   "source": "stars['dist'].sort_values()",
   "execution_count": 57,
   "outputs": [
    {
     "output_type": "execute_result",
     "execution_count": 57,
     "data": {
      "text/plain": "0        0.0000\n78       4.2260\n97       4.3547\n96       4.3547\n1078     5.9814\n         ...   \n675     74.8081\n1453    74.9801\n1934    74.9801\n1933    74.9801\n210     74.9801\nName: dist, Length: 2223, dtype: float64"
     },
     "metadata": {}
    }
   ]
  },
  {
   "cell_type": "code",
   "metadata": {
    "collapsed": false,
    "cell_id": "00010-f62fdcfe-f91d-4e68-9986-4c15e6cdb45a",
    "deepnote_to_be_reexecuted": false,
    "source_hash": "bdec1b87",
    "deepnote_output_heights": [
     250
    ],
    "execution_start": 1643560130915,
    "execution_millis": 463,
    "deepnote_cell_type": "code"
   },
   "source": "fig, ax = plt.subplots()\n\nplotstarshist=stars['dist'].plot.hist(color='k', alpha=0.5, bins=75, range=[0, 75], ax=ax)",
   "execution_count": 58,
   "outputs": [
    {
     "data": {
      "text/plain": "<Figure size 432x288 with 1 Axes>",
      "image/png": "[encoded data removed]"
     },
     "metadata": {
      "image/png": {
       "width": 385,
       "height": 248
      }
     },
     "output_type": "display_data"
    }
   ]
  },
  {
   "cell_type": "markdown",
   "source": "which is an expected histogram in general since the differential volume for larger distances becomes larger.",
   "metadata": {
    "cell_id": "00011-faedcb55-9885-4aa9-a180-63b0e8a230e8",
    "deepnote_cell_type": "markdown"
   }
  },
  {
   "cell_type": "markdown",
   "source": "I could also calculate the relative distances between each other.\n\nI can either write a function that calculates the distances or use the pdist function in scipy.",
   "metadata": {
    "cell_id": "00012-10bee875-0705-4aa7-9cec-34b738d44449",
    "deepnote_cell_type": "markdown"
   }
  },
  {
   "cell_type": "code",
   "metadata": {
    "collapsed": false,
    "cell_id": "00013-d97abf8d-fe8d-4291-b3df-bab9527879d6",
    "deepnote_to_be_reexecuted": false,
    "source_hash": "d5244f61",
    "deepnote_output_heights": [
     40.375
    ],
    "execution_start": 1643560144636,
    "execution_millis": 57,
    "deepnote_cell_type": "code"
   },
   "source": "squareform( pdist(stars[['x-pos','y-pos','z-pos']].values, metric='euclidean')  ).flatten()",
   "execution_count": 59,
   "outputs": [
    {
     "output_type": "execute_result",
     "execution_count": 59,
     "data": {
      "text/plain": "array([ 0.        , 57.62606369, 56.235066  , ..., 18.11713099,\n        4.09187698,  0.        ])"
     },
     "metadata": {}
    }
   ]
  },
  {
   "cell_type": "code",
   "metadata": {
    "collapsed": true,
    "cell_id": "00014-f610ec97-e975-4c64-a614-a813424a989b",
    "deepnote_to_be_reexecuted": false,
    "source_hash": "dac69ee",
    "execution_start": 1643560189186,
    "execution_millis": 18,
    "deepnote_cell_type": "code"
   },
   "source": "dist_mat = pd.DataFrame(\n    pd.DataFrame(\n        squareform(\n            pdist(stars[['x-pos','y-pos','z-pos']].values, metric='euclidean') \n        ).flatten()\n    ).values.flatten()\n)",
   "execution_count": 62,
   "outputs": []
  },
  {
   "cell_type": "code",
   "metadata": {
    "collapsed": false,
    "cell_id": "00015-cdacf0bf-2213-44ac-8384-2dadf8c039dc",
    "deepnote_to_be_reexecuted": false,
    "source_hash": "b8d86e72",
    "deepnote_output_heights": [
     21,
     250
    ],
    "execution_start": 1643560149810,
    "execution_millis": 1555,
    "deepnote_cell_type": "code"
   },
   "source": "dist_mat.plot.hist(color='k', alpha=0.5, bins=150)",
   "execution_count": 61,
   "outputs": [
    {
     "output_type": "execute_result",
     "execution_count": 61,
     "data": {
      "text/plain": "<AxesSubplot:ylabel='Frequency'>"
     },
     "metadata": {}
    },
    {
     "data": {
      "text/plain": "<Figure size 432x288 with 1 Axes>",
      "image/png": "[encoded data removed]"
     },
     "metadata": {
      "image/png": {
       "width": 404,
       "height": 248
      }
     },
     "output_type": "display_data"
    }
   ]
  },
  {
   "cell_type": "markdown",
   "source": "So the stars seems to be quite homogeneous, given the furthest star from Sun in this database is around 75ly. The distribution seems to be around this distance.",
   "metadata": {
    "cell_id": "00016-cb288175-bcc9-4c71-8142-7b8f6ec304fb",
    "deepnote_cell_type": "markdown"
   }
  },
  {
   "cell_type": "markdown",
   "source": "### Distances",
   "metadata": {
    "cell_id": "00017-da0675b8-7b9a-4a21-a450-4f359caad27e",
    "deepnote_cell_type": "markdown"
   }
  },
  {
   "cell_type": "markdown",
   "source": "To calculate shortest distances, I need to use graph packages. Here I choose networkx.",
   "metadata": {
    "cell_id": "00018-5eb3b71f-3a05-493a-bbc0-875fd158ec1e",
    "deepnote_cell_type": "markdown"
   }
  },
  {
   "cell_type": "markdown",
   "source": "networkx can import pandas dataframe directly but I need to insert a column of source vertex and target vertex into the data frame.\n\nGenerate the source column and target column first.",
   "metadata": {
    "cell_id": "00019-d7b69550-b375-4bd4-a0f6-5a8f088d6700",
    "deepnote_cell_type": "markdown"
   }
  },
  {
   "cell_type": "code",
   "metadata": {
    "collapsed": false,
    "cell_id": "00020-29c59b26-34ec-49fe-ba6b-411e276dce35",
    "deepnote_to_be_reexecuted": false,
    "source_hash": "1f1f003d",
    "execution_start": 1643559876611,
    "execution_millis": 14,
    "deepnote_cell_type": "code"
   },
   "source": "print(\n    dist_mat.values.flatten().shape[0] / stars['#Name'].values.shape[0], stars['#Name'].values.shape[0]\n)",
   "execution_count": 10,
   "outputs": [
    {
     "name": "stdout",
     "text": "2223.0 2223\n",
     "output_type": "stream"
    }
   ]
  },
  {
   "cell_type": "code",
   "metadata": {
    "collapsed": true,
    "cell_id": "00021-52eaa38b-2ca5-4e32-bf94-0b39b3b4303b",
    "deepnote_to_be_reexecuted": false,
    "source_hash": "7b7c6c48",
    "execution_start": 1643559877675,
    "execution_millis": 127,
    "deepnote_cell_type": "code"
   },
   "source": "sourceCol = np.transpose(\\\n             np.array( [ stars['#Name'].values for __ in range( stars['#Name'].values.shape[0] )\\\n          ])\\\n            ).flatten()",
   "execution_count": 11,
   "outputs": []
  },
  {
   "cell_type": "code",
   "metadata": {
    "collapsed": true,
    "cell_id": "00022-375b0bef-ef5f-4b27-97ed-c0d451824797",
    "deepnote_to_be_reexecuted": false,
    "source_hash": "e13ccb0",
    "execution_start": 1643559879299,
    "execution_millis": 87,
    "deepnote_cell_type": "code"
   },
   "source": "targetCol = np.array( [ stars['#Name'].values for __ in range( stars['#Name'].values.shape[0] )\\\n          ]).flatten()\n",
   "execution_count": 12,
   "outputs": []
  },
  {
   "cell_type": "code",
   "metadata": {
    "collapsed": false,
    "scrolled": true,
    "cell_id": "00023-f0268df3-db5d-46cb-b038-7791528f42e5",
    "deepnote_to_be_reexecuted": false,
    "source_hash": "c0db1269",
    "execution_start": 1643559885485,
    "execution_millis": 30,
    "deepnote_cell_type": "code"
   },
   "source": "print(\n    sourceCol.shape, targetCol.shape, dist_mat.values.shape\n)",
   "execution_count": 14,
   "outputs": [
    {
     "name": "stdout",
     "text": "(4941729,) (4941729,) (4941729, 1)\n",
     "output_type": "stream"
    }
   ]
  },
  {
   "cell_type": "code",
   "metadata": {
    "collapsed": true,
    "cell_id": "00024-5473b07e-bbf3-48ff-a920-9df1df766e30",
    "deepnote_to_be_reexecuted": false,
    "source_hash": "6b647056",
    "execution_start": 1643559886985,
    "execution_millis": 4,
    "deepnote_cell_type": "code"
   },
   "source": "dist_mat.insert(1,'source',sourceCol)\ndist_mat.insert(2,'target',targetCol)",
   "execution_count": 15,
   "outputs": []
  },
  {
   "cell_type": "markdown",
   "source": "I noticed that I forget to change the name of distance of the data frame.",
   "metadata": {
    "cell_id": "00025-1a8dc60c-e9c9-415c-94a8-44bc82fa75bd",
    "deepnote_cell_type": "markdown"
   }
  },
  {
   "cell_type": "code",
   "metadata": {
    "collapsed": true,
    "cell_id": "00026-83592f72-2b71-4422-bce1-c985fe2e486f",
    "deepnote_to_be_reexecuted": false,
    "source_hash": "14c219d",
    "execution_start": 1643559889348,
    "execution_millis": 4,
    "deepnote_cell_type": "code"
   },
   "source": "dist_mat.columns = ['distance', 'source', 'target']",
   "execution_count": 16,
   "outputs": []
  },
  {
   "cell_type": "code",
   "metadata": {
    "collapsed": false,
    "scrolled": false,
    "cell_id": "00027-b4fb5050-9599-4756-9d85-ecae7220220b",
    "deepnote_to_be_reexecuted": false,
    "source_hash": "3d9c50f8",
    "deepnote_output_heights": [
     611
    ],
    "execution_start": 1643559890987,
    "execution_millis": 614,
    "deepnote_cell_type": "code"
   },
   "source": "dist_mat",
   "execution_count": 17,
   "outputs": [
    {
     "output_type": "execute_result",
     "execution_count": 17,
     "data": {
      "application/vnd.deepnote.dataframe.v3+json": {
       "column_count": 3,
       "row_count": 4941729,
       "columns": [
        {
         "name": "distance",
         "dtype": "float64"
        },
        {
         "name": "source",
         "dtype": "object"
        },
        {
         "name": "target",
         "dtype": "object"
        },
        {
         "name": "_deepnote_index_column",
         "dtype": "int64"
        }
       ],
       "rows": [
        {
         "distance": 0,
         "source": "Sun",
         "target": "Sun",
         "_deepnote_index_column": 0
        },
        {
         "distance": 57.62606369222176,
         "source": "Sun",
         "target": "Gl-385",
         "_deepnote_index_column": 1
        },
        {
         "distance": 56.2350660030732,
         "source": "Sun",
         "target": "Gl-67.1",
         "_deepnote_index_column": 2
        },
        {
         "distance": 56.33217694169115,
         "source": "Sun",
         "target": "Gl-820.1",
         "_deepnote_index_column": 3
        },
        {
         "distance": 74.12799908442153,
         "source": "Sun",
         "target": "GJ-2108",
         "_deepnote_index_column": 4
        },
        {
         "distance": 52.607010130685055,
         "source": "Sun",
         "target": "Wo-9189",
         "_deepnote_index_column": 5
        },
        {
         "distance": 50.72523783404076,
         "source": "Sun",
         "target": "Gl-808",
         "_deepnote_index_column": 6
        },
        {
         "distance": 60.28896872173217,
         "source": "Sun",
         "target": "Gl-626.1",
         "_deepnote_index_column": 7
        },
        {
         "distance": 42.46913781335807,
         "source": "Sun",
         "target": "GJ-1077",
         "_deepnote_index_column": 8
        },
        {
         "distance": 66.56398959287222,
         "source": "Sun",
         "target": "GJ-2096",
         "_deepnote_index_column": 9
        }
       ]
      },
      "text/plain": "          distance   source    target\n0         0.000000      Sun       Sun\n1        57.626064      Sun    Gl-385\n2        56.235066      Sun   Gl-67.1\n3        56.332177      Sun  Gl-820.1\n4        74.127999      Sun   GJ-2108\n...            ...      ...       ...\n4941724   9.889712  NN-3768  Gl-699.1\n4941725  20.158084  NN-3768   GJ-1101\n4941726  18.117131  NN-3768   GJ-1035\n4941727   4.091877  NN-3768    Gl-396\n4941728   0.000000  NN-3768   NN-3768\n\n[4941729 rows x 3 columns]",
      "text/html": "<div>\n<style scoped>\n    .dataframe tbody tr th:only-of-type {\n        vertical-align: middle;\n    }\n\n    .dataframe tbody tr th {\n        vertical-align: top;\n    }\n\n    .dataframe thead th {\n        text-align: right;\n    }\n</style>\n<table border=\"1\" class=\"dataframe\">\n  <thead>\n    <tr style=\"text-align: right;\">\n      <th></th>\n      <th>distance</th>\n      <th>source</th>\n      <th>target</th>\n    </tr>\n  </thead>\n  <tbody>\n    <tr>\n      <th>0</th>\n      <td>0.000000</td>\n      <td>Sun</td>\n      <td>Sun</td>\n    </tr>\n    <tr>\n      <th>1</th>\n      <td>57.626064</td>\n      <td>Sun</td>\n      <td>Gl-385</td>\n    </tr>\n    <tr>\n      <th>2</th>\n      <td>56.235066</td>\n      <td>Sun</td>\n      <td>Gl-67.1</td>\n    </tr>\n    <tr>\n      <th>3</th>\n      <td>56.332177</td>\n      <td>Sun</td>\n      <td>Gl-820.1</td>\n    </tr>\n    <tr>\n      <th>4</th>\n      <td>74.127999</td>\n      <td>Sun</td>\n      <td>GJ-2108</td>\n    </tr>\n    <tr>\n      <th>...</th>\n      <td>...</td>\n      <td>...</td>\n      <td>...</td>\n    </tr>\n    <tr>\n      <th>4941724</th>\n      <td>9.889712</td>\n      <td>NN-3768</td>\n      <td>Gl-699.1</td>\n    </tr>\n    <tr>\n      <th>4941725</th>\n      <td>20.158084</td>\n      <td>NN-3768</td>\n      <td>GJ-1101</td>\n    </tr>\n    <tr>\n      <th>4941726</th>\n      <td>18.117131</td>\n      <td>NN-3768</td>\n      <td>GJ-1035</td>\n    </tr>\n    <tr>\n      <th>4941727</th>\n      <td>4.091877</td>\n      <td>NN-3768</td>\n      <td>Gl-396</td>\n    </tr>\n    <tr>\n      <th>4941728</th>\n      <td>0.000000</td>\n      <td>NN-3768</td>\n      <td>NN-3768</td>\n    </tr>\n  </tbody>\n</table>\n<p>4941729 rows × 3 columns</p>\n</div>"
     },
     "metadata": {}
    }
   ]
  },
  {
   "cell_type": "code",
   "metadata": {
    "collapsed": true,
    "cell_id": "00028-6cd38750-cf78-4547-b888-b66f129c7f3f",
    "deepnote_to_be_reexecuted": false,
    "source_hash": "29851e48",
    "execution_start": 1643559941803,
    "execution_millis": 27728,
    "deepnote_cell_type": "code"
   },
   "source": "#StarGraph = nx.from_pandas_dataframe(dist_mat, 'source', 'target', 'distance')\nStarGraph = nx.from_pandas_edgelist(dist_mat, 'source', 'target', 'distance')",
   "execution_count": 20,
   "outputs": []
  },
  {
   "cell_type": "code",
   "metadata": {
    "collapsed": false,
    "cell_id": "00029-99c0ac52-6f97-4988-9626-1e333650c6ce",
    "deepnote_to_be_reexecuted": false,
    "source_hash": "b6432061",
    "deepnote_output_heights": [
     21.1875
    ],
    "execution_start": 1643559969531,
    "execution_millis": 184,
    "deepnote_cell_type": "code"
   },
   "source": "StarGraph['Sun']['Sun']['distance']",
   "execution_count": 21,
   "outputs": [
    {
     "output_type": "execute_result",
     "execution_count": 21,
     "data": {
      "text/plain": "0.0"
     },
     "metadata": {}
    }
   ]
  },
  {
   "cell_type": "markdown",
   "source": "I can calculate the shortest path",
   "metadata": {
    "cell_id": "00030-627534ce-486c-44b4-9e8d-08ae64ba038f",
    "deepnote_cell_type": "markdown"
   }
  },
  {
   "cell_type": "code",
   "metadata": {
    "collapsed": false,
    "cell_id": "00031-1833be74-7ba1-44b6-b7ce-8a58476d8a16",
    "deepnote_to_be_reexecuted": false,
    "source_hash": "308b328",
    "execution_start": 1643559969532,
    "execution_millis": 4026,
    "deepnote_cell_type": "code"
   },
   "source": "print( [p for p in nx.all_shortest_paths(StarGraph, source='Sun', target='GJ-2108', weight='distance')] )",
   "execution_count": 22,
   "outputs": [
    {
     "name": "stdout",
     "text": "[['Sun', 'GJ-2108'], ['Sun', 'GJ-2108']]\n",
     "output_type": "stream"
    }
   ]
  },
  {
   "cell_type": "markdown",
   "source": "Now it seems the graph is working because direct flight is the shortest path in space.",
   "metadata": {
    "cell_id": "00032-093a3a34-56b4-4cfa-adbb-c44cf35ecd3c",
    "deepnote_cell_type": "markdown"
   }
  },
  {
   "cell_type": "markdown",
   "source": "### For a certain finite flight distance",
   "metadata": {
    "cell_id": "00033-f13fbfe8-9c40-41ac-9e59-217e825924f4",
    "deepnote_cell_type": "markdown"
   }
  },
  {
   "cell_type": "code",
   "metadata": {
    "collapsed": true,
    "cell_id": "00034-943e0bae-14ac-40e8-9f03-11d22dde9caa",
    "deepnote_to_be_reexecuted": false,
    "source_hash": "d319822f",
    "execution_start": 1643559973567,
    "execution_millis": 20,
    "deepnote_cell_type": "code"
   },
   "source": "dist10df = dist_mat[dist_mat['distance']<10]",
   "execution_count": 23,
   "outputs": []
  },
  {
   "cell_type": "code",
   "metadata": {
    "collapsed": false,
    "cell_id": "00035-4e281e2e-a44a-4fd3-aed9-21c6ab46b468",
    "deepnote_to_be_reexecuted": false,
    "source_hash": "4956b73e",
    "deepnote_output_heights": [
     611
    ],
    "execution_start": 1643559973630,
    "execution_millis": 77,
    "deepnote_cell_type": "code"
   },
   "source": "dist10df",
   "execution_count": 24,
   "outputs": [
    {
     "output_type": "execute_result",
     "execution_count": 24,
     "data": {
      "application/vnd.deepnote.dataframe.v3+json": {
       "column_count": 3,
       "row_count": 15085,
       "columns": [
        {
         "name": "distance",
         "dtype": "float64",
         "stats": {
          "unique_count": 6073,
          "nan_count": 0,
          "min": "0.0",
          "max": "9.99992184119456",
          "histogram": [
           {
            "bin_start": 0,
            "bin_end": 0.999992184119456,
            "count": 2601
           },
           {
            "bin_start": 0.999992184119456,
            "bin_end": 1.999984368238912,
            "count": 82
           },
           {
            "bin_start": 1.999984368238912,
            "bin_end": 2.999976552358368,
            "count": 280
           },
           {
            "bin_start": 2.999976552358368,
            "bin_end": 3.999968736477824,
            "count": 522
           },
           {
            "bin_start": 3.999968736477824,
            "bin_end": 4.99996092059728,
            "count": 782
           },
           {
            "bin_start": 4.99996092059728,
            "bin_end": 5.999953104716736,
            "count": 1120
           },
           {
            "bin_start": 5.999953104716736,
            "bin_end": 6.999945288836192,
            "count": 1758
           },
           {
            "bin_start": 6.999945288836192,
            "bin_end": 7.999937472955648,
            "count": 2084
           },
           {
            "bin_start": 7.999937472955648,
            "bin_end": 8.999929657075104,
            "count": 2672
           },
           {
            "bin_start": 8.999929657075104,
            "bin_end": 9.99992184119456,
            "count": 3184
           }
          ]
         }
        },
        {
         "name": "source",
         "dtype": "object",
         "stats": {
          "unique_count": 2223,
          "nan_count": 0,
          "categories": [
           {
            "name": "Gl-663B",
            "count": 21
           },
           {
            "name": "Gl-663A",
            "count": 21
           },
           {
            "name": "2221 others",
            "count": 15043
           }
          ]
         }
        },
        {
         "name": "target",
         "dtype": "object",
         "stats": {
          "unique_count": 2223,
          "nan_count": 0,
          "categories": [
           {
            "name": "Gl-663B",
            "count": 21
           },
           {
            "name": "Gl-663A",
            "count": 21
           },
           {
            "name": "2221 others",
            "count": 15043
           }
          ]
         }
        },
        {
         "name": "_deepnote_index_column",
         "dtype": "int64"
        }
       ],
       "rows": [
        {
         "distance": 0,
         "source": "Sun",
         "target": "Sun",
         "_deepnote_index_column": 0
        },
        {
         "distance": 4.226040593747296,
         "source": "Sun",
         "target": "Gl-551",
         "_deepnote_index_column": 78
        },
        {
         "distance": 4.354670333102151,
         "source": "Sun",
         "target": "Gl-559B",
         "_deepnote_index_column": 96
        },
        {
         "distance": 4.354670333102151,
         "source": "Sun",
         "target": "Gl-559A",
         "_deepnote_index_column": 97
        },
        {
         "distance": 9.562127132599734,
         "source": "Sun",
         "target": "Gl-729",
         "_deepnote_index_column": 538
        },
        {
         "distance": 8.56742886109946,
         "source": "Sun",
         "target": "Gl-65A",
         "_deepnote_index_column": 636
        },
        {
         "distance": 8.574223911818493,
         "source": "Sun",
         "target": "Gl-244B",
         "_deepnote_index_column": 656
        },
        {
         "distance": 8.574223911818493,
         "source": "Sun",
         "target": "Gl-244A",
         "_deepnote_index_column": 657
        },
        {
         "distance": 5.9813910037716145,
         "source": "Sun",
         "target": "Gl-699",
         "_deepnote_index_column": 1078
        },
        {
         "distance": 7.79733776618661,
         "source": "Sun",
         "target": "Gl-406",
         "_deepnote_index_column": 1141
        }
       ]
      },
      "text/plain": "         distance   source    target\n0        0.000000      Sun       Sun\n78       4.226041      Sun    Gl-551\n96       4.354670      Sun   Gl-559B\n97       4.354670      Sun   Gl-559A\n538      9.562127      Sun    Gl-729\n...           ...      ...       ...\n4941718  5.115011  NN-3768   NN-3859\n4941719  6.989133  NN-3768   NN-3675\n4941724  9.889712  NN-3768  Gl-699.1\n4941727  4.091877  NN-3768    Gl-396\n4941728  0.000000  NN-3768   NN-3768\n\n[15085 rows x 3 columns]",
      "text/html": "<div>\n<style scoped>\n    .dataframe tbody tr th:only-of-type {\n        vertical-align: middle;\n    }\n\n    .dataframe tbody tr th {\n        vertical-align: top;\n    }\n\n    .dataframe thead th {\n        text-align: right;\n    }\n</style>\n<table border=\"1\" class=\"dataframe\">\n  <thead>\n    <tr style=\"text-align: right;\">\n      <th></th>\n      <th>distance</th>\n      <th>source</th>\n      <th>target</th>\n    </tr>\n  </thead>\n  <tbody>\n    <tr>\n      <th>0</th>\n      <td>0.000000</td>\n      <td>Sun</td>\n      <td>Sun</td>\n    </tr>\n    <tr>\n      <th>78</th>\n      <td>4.226041</td>\n      <td>Sun</td>\n      <td>Gl-551</td>\n    </tr>\n    <tr>\n      <th>96</th>\n      <td>4.354670</td>\n      <td>Sun</td>\n      <td>Gl-559B</td>\n    </tr>\n    <tr>\n      <th>97</th>\n      <td>4.354670</td>\n      <td>Sun</td>\n      <td>Gl-559A</td>\n    </tr>\n    <tr>\n      <th>538</th>\n      <td>9.562127</td>\n      <td>Sun</td>\n      <td>Gl-729</td>\n    </tr>\n    <tr>\n      <th>...</th>\n      <td>...</td>\n      <td>...</td>\n      <td>...</td>\n    </tr>\n    <tr>\n      <th>4941718</th>\n      <td>5.115011</td>\n      <td>NN-3768</td>\n      <td>NN-3859</td>\n    </tr>\n    <tr>\n      <th>4941719</th>\n      <td>6.989133</td>\n      <td>NN-3768</td>\n      <td>NN-3675</td>\n    </tr>\n    <tr>\n      <th>4941724</th>\n      <td>9.889712</td>\n      <td>NN-3768</td>\n      <td>Gl-699.1</td>\n    </tr>\n    <tr>\n      <th>4941727</th>\n      <td>4.091877</td>\n      <td>NN-3768</td>\n      <td>Gl-396</td>\n    </tr>\n    <tr>\n      <th>4941728</th>\n      <td>0.000000</td>\n      <td>NN-3768</td>\n      <td>NN-3768</td>\n    </tr>\n  </tbody>\n</table>\n<p>15085 rows × 3 columns</p>\n</div>"
     },
     "metadata": {}
    }
   ]
  },
  {
   "cell_type": "code",
   "metadata": {
    "collapsed": true,
    "cell_id": "00036-e0afe02d-7b1b-4c3d-9a2c-dbe5b8b93edd",
    "deepnote_to_be_reexecuted": false,
    "source_hash": "866d87a4",
    "execution_start": 1643559973750,
    "execution_millis": 45,
    "deepnote_cell_type": "code"
   },
   "source": "dist10df.to_csv('dist10df.csv', sep=',',index=False)",
   "execution_count": 25,
   "outputs": []
  },
  {
   "cell_type": "code",
   "metadata": {
    "collapsed": true,
    "cell_id": "00037-9ec518d0-e330-486a-8a52-bb98ce966219",
    "deepnote_to_be_reexecuted": false,
    "source_hash": "6d996a3",
    "execution_start": 1643559982358,
    "execution_millis": 90,
    "deepnote_cell_type": "code"
   },
   "source": "StarGraph10 = nx.from_pandas_edgelist(dist10df, 'source', 'target', 'distance')",
   "execution_count": 27,
   "outputs": []
  },
  {
   "cell_type": "code",
   "metadata": {
    "collapsed": false,
    "cell_id": "00038-2310af0d-96ad-4bce-b6b5-8cb835a14f87",
    "deepnote_to_be_reexecuted": false,
    "source_hash": "c213f959",
    "deepnote_output_heights": [
     289.8125
    ],
    "execution_start": 1643559983822,
    "execution_millis": 6,
    "deepnote_cell_type": "code"
   },
   "source": "nx.shortest_path(StarGraph10, source='Sun', target='Gl-305', weight='distance')",
   "execution_count": 28,
   "outputs": [
    {
     "output_type": "execute_result",
     "execution_count": 28,
     "data": {
      "text/plain": "['Sun',\n 'Gl-551',\n 'Gl-845',\n 'Gl-780',\n 'Gl-19',\n 'Gl-902',\n 'Gl-865',\n 'Gl-842',\n 'GJ-1279',\n 'Gl-855.1A',\n 'Gl-808',\n 'Gl-820.1',\n 'Gl-67.1',\n 'Wo-9189',\n 'Gl-305']"
     },
     "metadata": {}
    }
   ]
  },
  {
   "cell_type": "code",
   "metadata": {
    "collapsed": false,
    "scrolled": true,
    "cell_id": "00039-00b3583c-e7d4-41fb-b4a9-316e5b176f2a",
    "deepnote_to_be_reexecuted": false,
    "source_hash": "eddf1baa",
    "execution_start": 1643559984928,
    "execution_millis": 21,
    "deepnote_cell_type": "code"
   },
   "source": "print( [p for p in nx.all_shortest_paths(StarGraph10, source='Sun', target='Gl-305', weight='distance')] )",
   "execution_count": 29,
   "outputs": [
    {
     "name": "stdout",
     "text": "[['Sun', 'Gl-551', 'Gl-845', 'Gl-780', 'Gl-19', 'Gl-902', 'Gl-865', 'Gl-842', 'GJ-1279', 'Gl-855.1A', 'Gl-808', 'Gl-820.1', 'Gl-67.1', 'Wo-9189', 'Gl-305'], ['Sun', 'Gl-551', 'Gl-845', 'Gl-780', 'Gl-19', 'Gl-902', 'Gl-865', 'Gl-842', 'GJ-1279', 'Gl-855.1A', 'Gl-808', 'Gl-820.1', 'Gl-67.1', 'Wo-9189', 'Gl-305']]\n",
     "output_type": "stream"
    }
   ]
  },
  {
   "cell_type": "code",
   "metadata": {
    "collapsed": false,
    "cell_id": "00040-4f52d58e-7aee-4134-940a-9fbdff948fa6",
    "deepnote_to_be_reexecuted": false,
    "source_hash": "44602dbb",
    "execution_start": 1643559985914,
    "execution_millis": 30,
    "deepnote_cell_type": "code"
   },
   "source": "print(\n    nx.dijkstra_path(StarGraph10,'Sun','Gl-305'), '\\n' , nx.dijkstra_path(StarGraph10,'Sun','Gl-305',weight='distance')\n)",
   "execution_count": 30,
   "outputs": [
    {
     "name": "stdout",
     "text": "['Sun', 'Gl-551', 'Gl-845', 'Gl-780', 'Gl-19', 'Gl-902', 'Gl-865', 'Gl-842', 'GJ-1279', 'NN-4340', 'Gl-808', 'Gl-820.1', 'Gl-67.1', 'Wo-9189', 'Gl-305'] \n ['Sun', 'Gl-551', 'Gl-845', 'Gl-780', 'Gl-19', 'Gl-902', 'Gl-865', 'Gl-842', 'GJ-1279', 'Gl-855.1A', 'Gl-808', 'Gl-820.1', 'Gl-67.1', 'Wo-9189', 'Gl-305']\n",
     "output_type": "stream"
    }
   ]
  },
  {
   "cell_type": "markdown",
   "source": "Now which is the most frequent stellar system?",
   "metadata": {
    "cell_id": "00041-684664cf-ed71-4a3a-be4c-08199056d9fc",
    "deepnote_cell_type": "markdown"
   }
  },
  {
   "cell_type": "code",
   "metadata": {
    "collapsed": false,
    "cell_id": "00042-7f548c08-3064-4bc5-a7e9-5a18eafe88b1",
    "deepnote_to_be_reexecuted": false,
    "source_hash": "a58fd13e",
    "deepnote_output_heights": [
     21.1875
    ],
    "execution_start": 1643559988307,
    "execution_millis": 5,
    "deepnote_cell_type": "code"
   },
   "source": "dist10df['source'].shape",
   "execution_count": 31,
   "outputs": [
    {
     "output_type": "execute_result",
     "execution_count": 31,
     "data": {
      "text/plain": "(15085,)"
     },
     "metadata": {}
    }
   ]
  },
  {
   "cell_type": "code",
   "metadata": {
    "collapsed": true,
    "cell_id": "00043-84120168-f368-4456-bd4f-38b8e0a9f4cd",
    "deepnote_to_be_reexecuted": false,
    "source_hash": "8c8f0825",
    "execution_start": 1643559989592,
    "execution_millis": 5,
    "deepnote_cell_type": "code"
   },
   "source": "dist10dfSC = dist10df['source'].value_counts()",
   "execution_count": 32,
   "outputs": []
  },
  {
   "cell_type": "code",
   "metadata": {
    "collapsed": false,
    "cell_id": "00044-43ff01ef-b67c-4e7e-a1c8-bc6dfac348a6",
    "deepnote_to_be_reexecuted": false,
    "source_hash": "ff26bd9f",
    "deepnote_output_heights": [
     232.25
    ],
    "execution_start": 1643559990773,
    "execution_millis": 6,
    "deepnote_cell_type": "code"
   },
   "source": "dist10dfSC",
   "execution_count": 33,
   "outputs": [
    {
     "output_type": "execute_result",
     "execution_count": 33,
     "data": {
      "text/plain": "Gl-663A     21\nGl-663B     21\nGl-664      19\nGl-729      18\nGl-674      18\n            ..\nNN-3392      1\nGJ-2108      1\nGl-875.1     1\nGl-257A      1\nNN-3862      1\nName: source, Length: 2223, dtype: int64"
     },
     "metadata": {}
    }
   ]
  },
  {
   "cell_type": "markdown",
   "source": "To get more out of this calculation, we print out the distance from Sun for the most frequently visted stars. Of course we have been assuming a homogeneous trading/travelling network. In general this is not true.",
   "metadata": {
    "cell_id": "00045-ed656204-2bb9-41e7-be60-820fc510f4d7",
    "deepnote_cell_type": "markdown"
   }
  },
  {
   "cell_type": "code",
   "metadata": {
    "collapsed": false,
    "scrolled": false,
    "cell_id": "00046-ca8e57ee-7b26-425a-9354-918d68b7b7f6",
    "deepnote_to_be_reexecuted": false,
    "source_hash": "7748afbe",
    "execution_start": 1643560000447,
    "execution_millis": 23864,
    "deepnote_cell_type": "code"
   },
   "source": "for i in range( dist10dfSC[dist10dfSC > 15].values.shape[0]  ):\n    print(\n        dist_mat[ (dist_mat['target'] == dist10dfSC.index[i]) & (dist_mat['source'] == 'Sun') ]['distance'].values, dist10dfSC[dist10dfSC > 15].values[i]\n    )",
   "execution_count": 35,
   "outputs": [
    {
     "name": "stdout",
     "text": "[17.3861465] 21\n[17.38611038] 21\n[17.92108462] 19\n[9.56212713] 18\n[14.84581102] 18\n[31.15222331] 18\n[28.33734858] 18\n[28.33742726] 18\n[13.47226589] 17\n[55.18839962] 17\n[12.94812881] 17\n[12.94812881] 17\n[40.26706168] 17\n[15.414186] 17\n[36.11996607] 17\n[42.91619987] 16\n[41.54952551] 16\n[19.75547698] 16\n[18.30323682] 16\n[10.33467594] 16\n[44.07612787] 16\n[35.29905833] 16\n[35.76350073] 16\n[14.56084008] 16\n[35.84208863] 16\n[13.3291135] 16\n[7.79733777] 16\n",
     "output_type": "stream"
    }
   ]
  },
  {
   "cell_type": "markdown",
   "source": "In principle, the more human-friendly planets a star system has, the more likely the transportation flights are going to visit it. Also if the star system have many neighbours with a lot of planets, the star system is likely to be some hub.\n\nFor an assumption, we can assume some function of the value of a star system using the idea of planets.",
   "metadata": {
    "cell_id": "00047-15719756-5d4c-425c-9f99-96526e35fec6",
    "deepnote_cell_type": "markdown"
   }
  },
  {
   "cell_type": "markdown",
   "source": "## More Systematic Methods",
   "metadata": {
    "cell_id": "00048-6c0e42c8-d6b0-4c28-9afe-baeb4e6e418c",
    "deepnote_cell_type": "markdown"
   }
  },
  {
   "cell_type": "markdown",
   "source": "Defining Functions",
   "metadata": {
    "cell_id": "00049-57550841-a06a-4410-b170-4a8f7c130165",
    "deepnote_cell_type": "markdown"
   }
  },
  {
   "cell_type": "code",
   "metadata": {
    "collapsed": true,
    "cell_id": "00050-9fac7cdf-cd7f-4eb7-b704-035f7412bc7c",
    "deepnote_to_be_reexecuted": false,
    "source_hash": "c57d0bbf",
    "execution_start": 1643560024315,
    "execution_millis": 4,
    "deepnote_cell_type": "code"
   },
   "source": "def DistanceMatrix(stars_dataframe):\n    \n    return pd.DataFrame( \\\n                        pd.DataFrame( \\\n                                     squareform( \\\n                                                pdist(stars_dataframe[['x-pos','y-pos','z-pos']].values, metric='euclidean') \\\n                                               ).flatten() \\\n                                    ).values.flatten() \\\n                       )\n    ",
   "execution_count": 36,
   "outputs": []
  },
  {
   "cell_type": "code",
   "metadata": {
    "collapsed": true,
    "cell_id": "00051-87ba50e2-7ced-4ef9-a2e1-5bb787c1058a",
    "deepnote_to_be_reexecuted": false,
    "source_hash": "82c8fca",
    "execution_start": 1643560024323,
    "execution_millis": 3,
    "deepnote_cell_type": "code"
   },
   "source": "def SourceColumn(stars_dataframe): \n    \n    return np.transpose(\\\n             np.array( [ stars_dataframe['#Name'].values for __ in range( stars_dataframe['#Name'].values.shape[0] )\\\n          ])\\\n            ).flatten()",
   "execution_count": 37,
   "outputs": []
  },
  {
   "cell_type": "code",
   "metadata": {
    "collapsed": true,
    "cell_id": "00052-bf683740-e1ec-485d-b1c9-eb6236a1d2bd",
    "deepnote_to_be_reexecuted": false,
    "source_hash": "3b61a3ec",
    "execution_start": 1643560024335,
    "execution_millis": 2,
    "deepnote_cell_type": "code"
   },
   "source": "def TargetColumn(stars_dataframe):\n\n    return np.array( [ stars_dataframe['#Name'].values for __ in range( stars_dataframe['#Name'].values.shape[0] )\\\n          ]).flatten()\n",
   "execution_count": 38,
   "outputs": []
  },
  {
   "cell_type": "markdown",
   "source": "### The Graph is too large",
   "metadata": {
    "collapsed": true,
    "cell_id": "00053-363bce36-d07f-40d4-8522-2f4f6f4000ec",
    "deepnote_cell_type": "markdown"
   }
  },
  {
   "cell_type": "markdown",
   "source": "Truncate it using the distance to the Sun.",
   "metadata": {
    "cell_id": "00054-a5ebffda-a701-415c-85cf-db8cd34c4b84",
    "deepnote_cell_type": "markdown"
   }
  },
  {
   "cell_type": "code",
   "metadata": {
    "collapsed": false,
    "cell_id": "00055-2972be04-933d-43a8-9c0f-c1557243a2ba",
    "deepnote_to_be_reexecuted": false,
    "source_hash": "5885dd18",
    "deepnote_output_heights": [
     611
    ],
    "execution_start": 1643560024399,
    "execution_millis": 42,
    "deepnote_cell_type": "code"
   },
   "source": "stars_30 = stars[stars['dist']<30]\nstars_30.sort_values('dist', ascending=True)",
   "execution_count": 39,
   "outputs": [
    {
     "output_type": "execute_result",
     "execution_count": 39,
     "data": {
      "application/vnd.deepnote.dataframe.v3+json": {
       "column_count": 7,
       "row_count": 237,
       "columns": [
        {
         "name": "#Name",
         "dtype": "object",
         "stats": {
          "unique_count": 237,
          "nan_count": 0,
          "categories": [
           {
            "name": "Sun",
            "count": 1
           },
           {
            "name": "Gl-551",
            "count": 1
           },
           {
            "name": "235 others",
            "count": 235
           }
          ]
         }
        },
        {
         "name": "x-pos",
         "dtype": "float64",
         "stats": {
          "unique_count": 219,
          "nan_count": 0,
          "min": "-26.7395",
          "max": "25.5534",
          "histogram": [
           {
            "bin_start": -26.7395,
            "bin_end": -21.51021,
            "count": 10
           },
           {
            "bin_start": -21.51021,
            "bin_end": -16.28092,
            "count": 20
           },
           {
            "bin_start": -16.28092,
            "bin_end": -11.051629999999998,
            "count": 23
           },
           {
            "bin_start": -11.051629999999998,
            "bin_end": -5.822339999999997,
            "count": 31
           },
           {
            "bin_start": -5.822339999999997,
            "bin_end": -0.5930499999999981,
            "count": 31
           },
           {
            "bin_start": -0.5930499999999981,
            "bin_end": 4.636240000000004,
            "count": 33
           },
           {
            "bin_start": 4.636240000000004,
            "bin_end": 9.865530000000007,
            "count": 30
           },
           {
            "bin_start": 9.865530000000007,
            "bin_end": 15.094820000000006,
            "count": 27
           },
           {
            "bin_start": 15.094820000000006,
            "bin_end": 20.324110000000005,
            "count": 20
           },
           {
            "bin_start": 20.324110000000005,
            "bin_end": 25.5534,
            "count": 12
           }
          ]
         }
        },
        {
         "name": "y-pos",
         "dtype": "float64",
         "stats": {
          "unique_count": 221,
          "nan_count": 0,
          "min": "-29.8086",
          "max": "26.9704",
          "histogram": [
           {
            "bin_start": -29.8086,
            "bin_end": -24.130699999999997,
            "count": 5
           },
           {
            "bin_start": -24.130699999999997,
            "bin_end": -18.4528,
            "count": 12
           },
           {
            "bin_start": -18.4528,
            "bin_end": -12.774900000000002,
            "count": 17
           },
           {
            "bin_start": -12.774900000000002,
            "bin_end": -7.097000000000001,
            "count": 30
           },
           {
            "bin_start": -7.097000000000001,
            "bin_end": -1.4191000000000003,
            "count": 45
           },
           {
            "bin_start": -1.4191000000000003,
            "bin_end": 4.258799999999994,
            "count": 41
           },
           {
            "bin_start": 4.258799999999994,
            "bin_end": 9.936699999999995,
            "count": 26
           },
           {
            "bin_start": 9.936699999999995,
            "bin_end": 15.614599999999996,
            "count": 27
           },
           {
            "bin_start": 15.614599999999996,
            "bin_end": 21.292499999999997,
            "count": 20
           },
           {
            "bin_start": 21.292499999999997,
            "bin_end": 26.9704,
            "count": 14
           }
          ]
         }
        },
        {
         "name": "z-pos",
         "dtype": "float64",
         "stats": {
          "unique_count": 221,
          "nan_count": 0,
          "min": "-28.0083",
          "max": "26.0633",
          "histogram": [
           {
            "bin_start": -28.0083,
            "bin_end": -22.601139999999997,
            "count": 12
           },
           {
            "bin_start": -22.601139999999997,
            "bin_end": -17.193979999999996,
            "count": 17
           },
           {
            "bin_start": -17.193979999999996,
            "bin_end": -11.786819999999999,
            "count": 18
           },
           {
            "bin_start": -11.786819999999999,
            "bin_end": -6.379659999999998,
            "count": 33
           },
           {
            "bin_start": -6.379659999999998,
            "bin_end": -0.9724999999999966,
            "count": 37
           },
           {
            "bin_start": -0.9724999999999966,
            "bin_end": 4.434660000000001,
            "count": 40
           },
           {
            "bin_start": 4.434660000000001,
            "bin_end": 9.841820000000006,
            "count": 22
           },
           {
            "bin_start": 9.841820000000006,
            "bin_end": 15.248980000000003,
            "count": 25
           },
           {
            "bin_start": 15.248980000000003,
            "bin_end": 20.65614,
            "count": 22
           },
           {
            "bin_start": 20.65614,
            "bin_end": 26.0633,
            "count": 11
           }
          ]
         }
        },
        {
         "name": "dist",
         "dtype": "float64",
         "stats": {
          "unique_count": 182,
          "nan_count": 0,
          "min": "0.0",
          "max": "29.9782",
          "histogram": [
           {
            "bin_start": 0,
            "bin_end": 2.99782,
            "count": 1
           },
           {
            "bin_start": 2.99782,
            "bin_end": 5.99564,
            "count": 4
           },
           {
            "bin_start": 5.99564,
            "bin_end": 8.993459999999999,
            "count": 5
           },
           {
            "bin_start": 8.993459999999999,
            "bin_end": 11.99128,
            "count": 16
           },
           {
            "bin_start": 11.99128,
            "bin_end": 14.9891,
            "count": 18
           },
           {
            "bin_start": 14.9891,
            "bin_end": 17.986919999999998,
            "count": 29
           },
           {
            "bin_start": 17.986919999999998,
            "bin_end": 20.98474,
            "count": 33
           },
           {
            "bin_start": 20.98474,
            "bin_end": 23.98256,
            "count": 29
           },
           {
            "bin_start": 23.98256,
            "bin_end": 26.98038,
            "count": 50
           },
           {
            "bin_start": 26.98038,
            "bin_end": 29.9782,
            "count": 52
           }
          ]
         }
        },
        {
         "name": "bright",
         "dtype": "object",
         "stats": {
          "unique_count": 131,
          "nan_count": 0,
          "categories": [
           {
            "name": "0.0001",
            "count": 19
           },
           {
            "name": "0.0000",
            "count": 14
           },
           {
            "name": "129 others",
            "count": 204
           }
          ]
         }
        },
        {
         "name": "temp",
         "dtype": "float64",
         "stats": {
          "unique_count": 107,
          "nan_count": 3,
          "min": "2975.0191",
          "max": "9765.8035",
          "histogram": [
           {
            "bin_start": 2975.0191,
            "bin_end": 3654.0975399999998,
            "count": 88
           },
           {
            "bin_start": 3654.0975399999998,
            "bin_end": 4333.17598,
            "count": 79
           },
           {
            "bin_start": 4333.17598,
            "bin_end": 5012.25442,
            "count": 15
           },
           {
            "bin_start": 5012.25442,
            "bin_end": 5691.33286,
            "count": 26
           },
           {
            "bin_start": 5691.33286,
            "bin_end": 6370.4113,
            "count": 11
           },
           {
            "bin_start": 6370.4113,
            "bin_end": 7049.48974,
            "count": 6
           },
           {
            "bin_start": 7049.48974,
            "bin_end": 7728.56818,
            "count": 2
           },
           {
            "bin_start": 7728.56818,
            "bin_end": 8407.64662,
            "count": 4
           },
           {
            "bin_start": 8407.64662,
            "bin_end": 9086.72506,
            "count": 0
           },
           {
            "bin_start": 9086.72506,
            "bin_end": 9765.8035,
            "count": 3
           }
          ]
         }
        },
        {
         "name": "_deepnote_index_column",
         "dtype": "int64"
        }
       ],
       "rows": [
        {
         "#Name": "Sun",
         "x-pos": 0,
         "y-pos": 0,
         "z-pos": 0,
         "dist": 0,
         "bright": "1.0000",
         "temp": 5778.4237,
         "_deepnote_index_column": 0
        },
        {
         "#Name": "Gl-551",
         "x-pos": 2.9331,
         "y-pos": -3.039,
         "z-pos": 0.1443,
         "dist": 4.226,
         "bright": "0.0001",
         "temp": 3356.3732,
         "_deepnote_index_column": 78
        },
        {
         "#Name": "Gl-559A",
         "x-pos": 3.1203,
         "y-pos": -3.0371,
         "z-pos": 0.0539,
         "dist": 4.3547,
         "bright": "1.5417",
         "temp": 5815.2137,
         "_deepnote_index_column": 97
        },
        {
         "#Name": "Gl-559B",
         "x-pos": 3.1203,
         "y-pos": -3.0371,
         "z-pos": 0.0539,
         "dist": 4.3547,
         "bright": "0.4529",
         "temp": 5162.939,
         "_deepnote_index_column": 96
        },
        {
         "#Name": "Gl-699",
         "x-pos": 4.9811,
         "y-pos": 2.9792,
         "z-pos": -1.4457,
         "dist": 5.9814,
         "bright": "0.0004",
         "temp": 3464.9272,
         "_deepnote_index_column": 1078
        },
        {
         "#Name": "Gl-406",
         "x-pos": -1.8978,
         "y-pos": -3.9022,
         "z-pos": -6.4784,
         "dist": 7.7974,
         "bright": "0.0000",
         "temp": 3169.3537,
         "_deepnote_index_column": 1141
        },
        {
         "#Name": "Gl-411",
         "x-pos": -3.4014,
         "y-pos": -0.2952,
         "z-pos": -7.4659,
         "dist": 8.2095,
         "bright": "0.0056",
         "temp": 3778.5271,
         "_deepnote_index_column": 1722
        },
        {
         "#Name": "Gl-65A",
         "x-pos": -2.1037,
         "y-pos": 0.1698,
         "z-pos": 8.3034,
         "dist": 8.5675,
         "bright": "0.0001",
         "temp": 3333.1966,
         "_deepnote_index_column": 636
        },
        {
         "#Name": "Gl-244B",
         "x-pos": -5.7538,
         "y-pos": -6.2178,
         "z-pos": 1.3229,
         "dist": 8.5742,
         "bright": "0.004710515.5618",
         "temp": "nan",
         "_deepnote_index_column": 656
        },
        {
         "#Name": "Gl-244A",
         "x-pos": -5.7538,
         "y-pos": -6.2178,
         "z-pos": 1.3229,
         "dist": 8.5742,
         "bright": "40.179110125.2372",
         "temp": "nan",
         "_deepnote_index_column": 657
        }
       ]
      },
      "text/plain": "        #Name    x-pos    y-pos    z-pos     dist  bright       temp\n0         Sun   0.0000   0.0000   0.0000   0.0000  1.0000  5778.4237\n78     Gl-551   2.9331  -3.0390   0.1443   4.2260  0.0001  3356.3732\n97    Gl-559A   3.1203  -3.0371   0.0539   4.3547  1.5417  5815.2137\n96    Gl-559B   3.1203  -3.0371   0.0539   4.3547  0.4529  5162.9390\n1078   Gl-699   4.9811   2.9792  -1.4457   5.9814  0.0004  3464.9272\n...       ...      ...      ...      ...      ...     ...        ...\n1967  NN-3421 -26.4425   7.5620 -11.7205  29.8958  0.0003  3344.7435\n877   Gl-250A -23.7001 -18.2778   1.1280  29.9507  0.1690  4625.8097\n876   Gl-250B -23.6953 -18.2838   1.1319  29.9507  0.0067  3793.5065\n261    Gl-367   1.1680 -29.8086  -2.9632  29.9782  0.0067  3748.9340\n485    Gl-785  25.1580   7.0344  14.7067  29.9782  0.3767  5050.6447\n\n[237 rows x 7 columns]",
      "text/html": "<div>\n<style scoped>\n    .dataframe tbody tr th:only-of-type {\n        vertical-align: middle;\n    }\n\n    .dataframe tbody tr th {\n        vertical-align: top;\n    }\n\n    .dataframe thead th {\n        text-align: right;\n    }\n</style>\n<table border=\"1\" class=\"dataframe\">\n  <thead>\n    <tr style=\"text-align: right;\">\n      <th></th>\n      <th>#Name</th>\n      <th>x-pos</th>\n      <th>y-pos</th>\n      <th>z-pos</th>\n      <th>dist</th>\n      <th>bright</th>\n      <th>temp</th>\n    </tr>\n  </thead>\n  <tbody>\n    <tr>\n      <th>0</th>\n      <td>Sun</td>\n      <td>0.0000</td>\n      <td>0.0000</td>\n      <td>0.0000</td>\n      <td>0.0000</td>\n      <td>1.0000</td>\n      <td>5778.4237</td>\n    </tr>\n    <tr>\n      <th>78</th>\n      <td>Gl-551</td>\n      <td>2.9331</td>\n      <td>-3.0390</td>\n      <td>0.1443</td>\n      <td>4.2260</td>\n      <td>0.0001</td>\n      <td>3356.3732</td>\n    </tr>\n    <tr>\n      <th>97</th>\n      <td>Gl-559A</td>\n      <td>3.1203</td>\n      <td>-3.0371</td>\n      <td>0.0539</td>\n      <td>4.3547</td>\n      <td>1.5417</td>\n      <td>5815.2137</td>\n    </tr>\n    <tr>\n      <th>96</th>\n      <td>Gl-559B</td>\n      <td>3.1203</td>\n      <td>-3.0371</td>\n      <td>0.0539</td>\n      <td>4.3547</td>\n      <td>0.4529</td>\n      <td>5162.9390</td>\n    </tr>\n    <tr>\n      <th>1078</th>\n      <td>Gl-699</td>\n      <td>4.9811</td>\n      <td>2.9792</td>\n      <td>-1.4457</td>\n      <td>5.9814</td>\n      <td>0.0004</td>\n      <td>3464.9272</td>\n    </tr>\n    <tr>\n      <th>...</th>\n      <td>...</td>\n      <td>...</td>\n      <td>...</td>\n      <td>...</td>\n      <td>...</td>\n      <td>...</td>\n      <td>...</td>\n    </tr>\n    <tr>\n      <th>1967</th>\n      <td>NN-3421</td>\n      <td>-26.4425</td>\n      <td>7.5620</td>\n      <td>-11.7205</td>\n      <td>29.8958</td>\n      <td>0.0003</td>\n      <td>3344.7435</td>\n    </tr>\n    <tr>\n      <th>877</th>\n      <td>Gl-250A</td>\n      <td>-23.7001</td>\n      <td>-18.2778</td>\n      <td>1.1280</td>\n      <td>29.9507</td>\n      <td>0.1690</td>\n      <td>4625.8097</td>\n    </tr>\n    <tr>\n      <th>876</th>\n      <td>Gl-250B</td>\n      <td>-23.6953</td>\n      <td>-18.2838</td>\n      <td>1.1319</td>\n      <td>29.9507</td>\n      <td>0.0067</td>\n      <td>3793.5065</td>\n    </tr>\n    <tr>\n      <th>261</th>\n      <td>Gl-367</td>\n      <td>1.1680</td>\n      <td>-29.8086</td>\n      <td>-2.9632</td>\n      <td>29.9782</td>\n      <td>0.0067</td>\n      <td>3748.9340</td>\n    </tr>\n    <tr>\n      <th>485</th>\n      <td>Gl-785</td>\n      <td>25.1580</td>\n      <td>7.0344</td>\n      <td>14.7067</td>\n      <td>29.9782</td>\n      <td>0.3767</td>\n      <td>5050.6447</td>\n    </tr>\n  </tbody>\n</table>\n<p>237 rows × 7 columns</p>\n</div>"
     },
     "metadata": {}
    }
   ]
  },
  {
   "cell_type": "code",
   "metadata": {
    "collapsed": false,
    "scrolled": false,
    "cell_id": "00056-e6344805-ec8c-4c3a-9922-ea4a6fdbb560",
    "deepnote_to_be_reexecuted": false,
    "source_hash": "3025957d",
    "deepnote_output_heights": [
     611
    ],
    "execution_start": 1643560024440,
    "execution_millis": 96,
    "deepnote_cell_type": "code"
   },
   "source": "dist_mat_30 = DistanceMatrix(stars_30)\ndist_mat_30",
   "execution_count": 40,
   "outputs": [
    {
     "output_type": "execute_result",
     "execution_count": 40,
     "data": {
      "application/vnd.deepnote.dataframe.v3+json": {
       "column_count": 1,
       "row_count": 56169,
       "columns": [
        {
         "name": 0,
         "dtype": "float64",
         "stats": {
          "unique_count": 24311,
          "nan_count": 0,
          "min": "0.0",
          "max": "58.4389028601667",
          "histogram": [
           {
            "bin_start": 0,
            "bin_end": 5.84389028601667,
            "count": 747
           },
           {
            "bin_start": 5.84389028601667,
            "bin_end": 11.68778057203334,
            "count": 2490
           },
           {
            "bin_start": 11.68778057203334,
            "bin_end": 17.53167085805001,
            "count": 5580
           },
           {
            "bin_start": 17.53167085805001,
            "bin_end": 23.37556114406668,
            "count": 8598
           },
           {
            "bin_start": 23.37556114406668,
            "bin_end": 29.21945143008335,
            "count": 10934
           },
           {
            "bin_start": 29.21945143008335,
            "bin_end": 35.06334171610002,
            "count": 10400
           },
           {
            "bin_start": 35.06334171610002,
            "bin_end": 40.907232002116686,
            "count": 8348
           },
           {
            "bin_start": 40.907232002116686,
            "bin_end": 46.75112228813336,
            "count": 5560
           },
           {
            "bin_start": 46.75112228813336,
            "bin_end": 52.59501257415003,
            "count": 2766
           },
           {
            "bin_start": 52.59501257415003,
            "bin_end": 58.4389028601667,
            "count": 746
           }
          ]
         }
        },
        {
         "name": "_deepnote_index_column",
         "dtype": "int64"
        }
       ],
       "rows": [
        {
         "0": 0,
         "_deepnote_index_column": 0
        },
        {
         "0": 26.51737919949858,
         "_deepnote_index_column": 1
        },
        {
         "0": 20.98863922054024,
         "_deepnote_index_column": 2
        },
        {
         "0": 27.20296206996584,
         "_deepnote_index_column": 3
        },
        {
         "0": 28.58571960839888,
         "_deepnote_index_column": 4
        },
        {
         "0": 20.25857379827119,
         "_deepnote_index_column": 5
        },
        {
         "0": 22.540632889295722,
         "_deepnote_index_column": 6
        },
        {
         "0": 26.977921821556233,
         "_deepnote_index_column": 7
        },
        {
         "0": 18.61660452848478,
         "_deepnote_index_column": 8
        },
        {
         "0": 28.239239827587426,
         "_deepnote_index_column": 9
        }
       ]
      },
      "text/plain": "               0\n0       0.000000\n1      26.517379\n2      20.988639\n3      27.202962\n4      28.585720\n...          ...\n56164   8.397085\n56165   7.709603\n56166  15.756504\n56167  10.845875\n56168   0.000000\n\n[56169 rows x 1 columns]",
      "text/html": "<div>\n<style scoped>\n    .dataframe tbody tr th:only-of-type {\n        vertical-align: middle;\n    }\n\n    .dataframe tbody tr th {\n        vertical-align: top;\n    }\n\n    .dataframe thead th {\n        text-align: right;\n    }\n</style>\n<table border=\"1\" class=\"dataframe\">\n  <thead>\n    <tr style=\"text-align: right;\">\n      <th></th>\n      <th>0</th>\n    </tr>\n  </thead>\n  <tbody>\n    <tr>\n      <th>0</th>\n      <td>0.000000</td>\n    </tr>\n    <tr>\n      <th>1</th>\n      <td>26.517379</td>\n    </tr>\n    <tr>\n      <th>2</th>\n      <td>20.988639</td>\n    </tr>\n    <tr>\n      <th>3</th>\n      <td>27.202962</td>\n    </tr>\n    <tr>\n      <th>4</th>\n      <td>28.585720</td>\n    </tr>\n    <tr>\n      <th>...</th>\n      <td>...</td>\n    </tr>\n    <tr>\n      <th>56164</th>\n      <td>8.397085</td>\n    </tr>\n    <tr>\n      <th>56165</th>\n      <td>7.709603</td>\n    </tr>\n    <tr>\n      <th>56166</th>\n      <td>15.756504</td>\n    </tr>\n    <tr>\n      <th>56167</th>\n      <td>10.845875</td>\n    </tr>\n    <tr>\n      <th>56168</th>\n      <td>0.000000</td>\n    </tr>\n  </tbody>\n</table>\n<p>56169 rows × 1 columns</p>\n</div>"
     },
     "metadata": {}
    }
   ]
  },
  {
   "cell_type": "code",
   "metadata": {
    "collapsed": false,
    "cell_id": "00057-ddb49543-9cbe-40a5-b024-a113203e479a",
    "deepnote_to_be_reexecuted": false,
    "source_hash": "ad1f0ab6",
    "execution_start": 1643560029009,
    "execution_millis": 8,
    "deepnote_cell_type": "code"
   },
   "source": "print(\n    dist_mat_30.values.flatten().shape[0] / stars_30['#Name'].values.shape[0], stars_30['#Name'].values.shape[0]\n)",
   "execution_count": 42,
   "outputs": [
    {
     "name": "stdout",
     "text": "237.0 237\n",
     "output_type": "stream"
    }
   ]
  },
  {
   "cell_type": "code",
   "metadata": {
    "collapsed": false,
    "cell_id": "00058-2560ea02-1991-454c-aa01-c614ba9600f5",
    "deepnote_to_be_reexecuted": false,
    "source_hash": "3458bc86",
    "execution_start": 1643560029713,
    "execution_millis": 6,
    "deepnote_cell_type": "code"
   },
   "source": "dist_mat_30.insert(1,'source',SourceColumn(stars_30))\ndist_mat_30.insert(2,'target',TargetColumn(stars_30))",
   "execution_count": 43,
   "outputs": []
  },
  {
   "cell_type": "code",
   "metadata": {
    "collapsed": true,
    "cell_id": "00059-8bd4fd28-791e-473a-a797-9ee64aa6ce89",
    "deepnote_to_be_reexecuted": false,
    "source_hash": "ff5d3b5b",
    "execution_start": 1643560030492,
    "execution_millis": 2,
    "deepnote_cell_type": "code"
   },
   "source": "dist_mat_30.columns = ['distance', 'source', 'target']",
   "execution_count": 44,
   "outputs": []
  },
  {
   "cell_type": "code",
   "metadata": {
    "collapsed": false,
    "cell_id": "00060-2d005ef4-4996-4276-9ee1-2146cf6e8ca9",
    "deepnote_to_be_reexecuted": false,
    "source_hash": "545d765",
    "deepnote_output_heights": [
     611
    ],
    "execution_start": 1643560031671,
    "execution_millis": 105,
    "deepnote_cell_type": "code"
   },
   "source": "dist_mat_30",
   "execution_count": 45,
   "outputs": [
    {
     "output_type": "execute_result",
     "execution_count": 45,
     "data": {
      "application/vnd.deepnote.dataframe.v3+json": {
       "column_count": 3,
       "row_count": 56169,
       "columns": [
        {
         "name": "distance",
         "dtype": "float64",
         "stats": {
          "unique_count": 24311,
          "nan_count": 0,
          "min": "0.0",
          "max": "58.4389028601667",
          "histogram": [
           {
            "bin_start": 0,
            "bin_end": 5.84389028601667,
            "count": 747
           },
           {
            "bin_start": 5.84389028601667,
            "bin_end": 11.68778057203334,
            "count": 2490
           },
           {
            "bin_start": 11.68778057203334,
            "bin_end": 17.53167085805001,
            "count": 5580
           },
           {
            "bin_start": 17.53167085805001,
            "bin_end": 23.37556114406668,
            "count": 8598
           },
           {
            "bin_start": 23.37556114406668,
            "bin_end": 29.21945143008335,
            "count": 10934
           },
           {
            "bin_start": 29.21945143008335,
            "bin_end": 35.06334171610002,
            "count": 10400
           },
           {
            "bin_start": 35.06334171610002,
            "bin_end": 40.907232002116686,
            "count": 8348
           },
           {
            "bin_start": 40.907232002116686,
            "bin_end": 46.75112228813336,
            "count": 5560
           },
           {
            "bin_start": 46.75112228813336,
            "bin_end": 52.59501257415003,
            "count": 2766
           },
           {
            "bin_start": 52.59501257415003,
            "bin_end": 58.4389028601667,
            "count": 746
           }
          ]
         }
        },
        {
         "name": "source",
         "dtype": "object"
        },
        {
         "name": "target",
         "dtype": "object"
        },
        {
         "name": "_deepnote_index_column",
         "dtype": "int64"
        }
       ],
       "rows": [
        {
         "distance": 0,
         "source": "Sun",
         "target": "Sun",
         "_deepnote_index_column": 0
        },
        {
         "distance": 26.51737919949858,
         "source": "Sun",
         "target": "GJ-1123",
         "_deepnote_index_column": 1
        },
        {
         "distance": 20.98863922054024,
         "source": "Sun",
         "target": "Gl-19",
         "_deepnote_index_column": 2
        },
        {
         "distance": 27.20296206996584,
         "source": "Sun",
         "target": "Gl-877",
         "_deepnote_index_column": 3
        },
        {
         "distance": 28.58571960839888,
         "source": "Sun",
         "target": "Gl-231",
         "_deepnote_index_column": 4
        },
        {
         "distance": 20.25857379827119,
         "source": "Sun",
         "target": "GJ-1128",
         "_deepnote_index_column": 5
        },
        {
         "distance": 22.540632889295722,
         "source": "Sun",
         "target": "Gl-293",
         "_deepnote_index_column": 6
        },
        {
         "distance": 26.977921821556233,
         "source": "Sun",
         "target": "Gl-54",
         "_deepnote_index_column": 7
        },
        {
         "distance": 18.61660452848478,
         "source": "Sun",
         "target": "Gl-780",
         "_deepnote_index_column": 8
        },
        {
         "distance": 28.239239827587426,
         "source": "Sun",
         "target": "Gl-827",
         "_deepnote_index_column": 9
        }
       ]
      },
      "text/plain": "        distance  source    target\n0       0.000000     Sun       Sun\n1      26.517379     Sun   GJ-1123\n2      20.988639     Sun     Gl-19\n3      27.202962     Sun    Gl-877\n4      28.585720     Sun    Gl-231\n...          ...     ...       ...\n56164   8.397085  Gl-445    Gl-764\n56165   7.709603  Gl-445   GJ-1221\n56166  15.756504  Gl-445     Gl-48\n56167  10.845875  Gl-445  Gl-713AB\n56168   0.000000  Gl-445    Gl-445\n\n[56169 rows x 3 columns]",
      "text/html": "<div>\n<style scoped>\n    .dataframe tbody tr th:only-of-type {\n        vertical-align: middle;\n    }\n\n    .dataframe tbody tr th {\n        vertical-align: top;\n    }\n\n    .dataframe thead th {\n        text-align: right;\n    }\n</style>\n<table border=\"1\" class=\"dataframe\">\n  <thead>\n    <tr style=\"text-align: right;\">\n      <th></th>\n      <th>distance</th>\n      <th>source</th>\n      <th>target</th>\n    </tr>\n  </thead>\n  <tbody>\n    <tr>\n      <th>0</th>\n      <td>0.000000</td>\n      <td>Sun</td>\n      <td>Sun</td>\n    </tr>\n    <tr>\n      <th>1</th>\n      <td>26.517379</td>\n      <td>Sun</td>\n      <td>GJ-1123</td>\n    </tr>\n    <tr>\n      <th>2</th>\n      <td>20.988639</td>\n      <td>Sun</td>\n      <td>Gl-19</td>\n    </tr>\n    <tr>\n      <th>3</th>\n      <td>27.202962</td>\n      <td>Sun</td>\n      <td>Gl-877</td>\n    </tr>\n    <tr>\n      <th>4</th>\n      <td>28.585720</td>\n      <td>Sun</td>\n      <td>Gl-231</td>\n    </tr>\n    <tr>\n      <th>...</th>\n      <td>...</td>\n      <td>...</td>\n      <td>...</td>\n    </tr>\n    <tr>\n      <th>56164</th>\n      <td>8.397085</td>\n      <td>Gl-445</td>\n      <td>Gl-764</td>\n    </tr>\n    <tr>\n      <th>56165</th>\n      <td>7.709603</td>\n      <td>Gl-445</td>\n      <td>GJ-1221</td>\n    </tr>\n    <tr>\n      <th>56166</th>\n      <td>15.756504</td>\n      <td>Gl-445</td>\n      <td>Gl-48</td>\n    </tr>\n    <tr>\n      <th>56167</th>\n      <td>10.845875</td>\n      <td>Gl-445</td>\n      <td>Gl-713AB</td>\n    </tr>\n    <tr>\n      <th>56168</th>\n      <td>0.000000</td>\n      <td>Gl-445</td>\n      <td>Gl-445</td>\n    </tr>\n  </tbody>\n</table>\n<p>56169 rows × 3 columns</p>\n</div>"
     },
     "metadata": {}
    }
   ]
  },
  {
   "cell_type": "code",
   "metadata": {
    "collapsed": false,
    "cell_id": "00061-e7d02a8a-5d42-4b19-b115-7d665ee679a6",
    "deepnote_to_be_reexecuted": false,
    "source_hash": "5778e000",
    "execution_start": 1643560034427,
    "execution_millis": 1,
    "deepnote_cell_type": "code"
   },
   "source": "dist10df_30 = dist_mat_30[dist_mat_30['distance']<10]",
   "execution_count": 46,
   "outputs": []
  },
  {
   "cell_type": "code",
   "metadata": {
    "collapsed": true,
    "cell_id": "00062-78596564-13a9-445b-8f10-0e7aa395f42f",
    "deepnote_to_be_reexecuted": false,
    "source_hash": "a9d46793",
    "execution_start": 1643560035395,
    "execution_millis": 0,
    "deepnote_cell_type": "code"
   },
   "source": "dist10df_30.to_csv('dist10df_30.csv', sep=',',index=False)",
   "execution_count": 47,
   "outputs": []
  },
  {
   "cell_type": "code",
   "metadata": {
    "collapsed": false,
    "cell_id": "00063-06b94044-2a87-410f-88f3-789168460209",
    "deepnote_to_be_reexecuted": false,
    "source_hash": "b9566c66",
    "execution_start": 1643560036526,
    "execution_millis": 9,
    "deepnote_cell_type": "code"
   },
   "source": "dist10df_30_st = dist10df_30[['source','target']]\ndist10df_30_st.to_csv('dist10df_30_st.csv', sep=',',index=False) # only source and target column",
   "execution_count": 48,
   "outputs": []
  },
  {
   "cell_type": "code",
   "metadata": {
    "collapsed": false,
    "cell_id": "00064-29e29b95-b2b8-4a5b-b91a-ebb93cfc8618",
    "deepnote_to_be_reexecuted": false,
    "source_hash": "6f0265ab",
    "execution_start": 1643560037586,
    "execution_millis": 2,
    "deepnote_cell_type": "code"
   },
   "source": "def FindTargets_dist10df_30_st(source_name):\n    \n    return dist10df_30_st[ dist10df_30_st['source']==source_name ]['target'].values",
   "execution_count": 49,
   "outputs": []
  },
  {
   "cell_type": "code",
   "metadata": {
    "collapsed": false,
    "cell_id": "00065-ab5de42f-c620-46bf-99ca-92533cdb8215",
    "deepnote_to_be_reexecuted": false,
    "source_hash": "f7199040",
    "deepnote_output_heights": [
     40.375
    ],
    "execution_start": 1643560038569,
    "execution_millis": 51,
    "deepnote_cell_type": "code"
   },
   "source": "FindTargets_dist10df_30_st('Sun')",
   "execution_count": 50,
   "outputs": [
    {
     "output_type": "execute_result",
     "execution_count": 50,
     "data": {
      "text/plain": "array(['Sun', 'Gl-551', 'Gl-559B', 'Gl-559A', 'Gl-729', 'Gl-65A',\n       'Gl-244B', 'Gl-244A', 'Gl-699', 'Gl-406', 'Gl-411'], dtype=object)"
     },
     "metadata": {}
    }
   ]
  },
  {
   "cell_type": "code",
   "metadata": {
    "collapsed": false,
    "cell_id": "00066-5c9a424b-4366-434b-a55f-31f01098753b",
    "deepnote_to_be_reexecuted": false,
    "source_hash": "c09405a0",
    "execution_start": 1643560039862,
    "execution_millis": 3,
    "deepnote_cell_type": "code"
   },
   "source": "flarejsondf = pd.DataFrame(columns=['source','targets', 'bright', 'temp'])",
   "execution_count": 51,
   "outputs": []
  },
  {
   "cell_type": "code",
   "metadata": {
    "collapsed": false,
    "cell_id": "00067-f7c444df-e372-4f42-b803-a753f347e8a0",
    "deepnote_to_be_reexecuted": false,
    "source_hash": "4eb75acf",
    "deepnote_output_heights": [
     117
    ],
    "execution_start": 1643560040826,
    "execution_millis": 219,
    "deepnote_cell_type": "code"
   },
   "source": "dist10df_30_st['source'].value_counts().index",
   "execution_count": 52,
   "outputs": [
    {
     "output_type": "execute_result",
     "execution_count": 52,
     "data": {
      "text/plain": "Index(['Gl-663B', 'Gl-663A', 'Gl-664', 'Gl-674', 'Gl-729', 'Gl-860B',\n       'Gl-860A', 'Gl-234A', 'Gl-682', 'NN-3522',\n       ...\n       'NN-3192A', 'Gl-318', 'Gl-506', 'Gl-367', 'GJ-2034', 'Gl-791.2',\n       'Gl-785', 'NN-4247', 'Gl-257A', 'Gl-595'],\n      dtype='object', length=237)"
     },
     "metadata": {}
    }
   ]
  },
  {
   "cell_type": "code",
   "metadata": {
    "collapsed": false,
    "cell_id": "00068-a960b96a-8fe4-4a5b-bffc-b860246043ae",
    "deepnote_to_be_reexecuted": false,
    "source_hash": "8ab8a8ae",
    "deepnote_output_heights": [
     40.375
    ],
    "execution_start": 1643560041830,
    "execution_millis": 8,
    "deepnote_cell_type": "code"
   },
   "source": "stars[stars['#Name']=='Sun']['bright']",
   "execution_count": 53,
   "outputs": [
    {
     "output_type": "execute_result",
     "execution_count": 53,
     "data": {
      "text/plain": "0    1.0000\nName: bright, dtype: object"
     },
     "metadata": {}
    }
   ]
  },
  {
   "cell_type": "code",
   "metadata": {
    "collapsed": false,
    "cell_id": "00069-41fe6a83-521d-419f-8ff4-a825b31eeb07",
    "deepnote_to_be_reexecuted": false,
    "source_hash": "4b4743b6",
    "execution_start": 1643560042711,
    "execution_millis": 1532,
    "deepnote_cell_type": "code"
   },
   "source": "i_flag = 0\nfor source in dist10df_30_st['source'].value_counts().index:\n    \n    flarejsondf.loc[i] = [source, FindTargets_dist10df_30_st(source), stars[stars['#Name']==source]['bright'].values[0], stars[stars['#Name']==source]['temp'].values[0]]\n    \n    i = i + 1",
   "execution_count": 54,
   "outputs": []
  },
  {
   "cell_type": "code",
   "metadata": {
    "collapsed": false,
    "cell_id": "00070-4dad4de9-41df-4c2c-8e3a-53431378ead9",
    "deepnote_to_be_reexecuted": false,
    "source_hash": "b2d5d4bc",
    "deepnote_output_heights": [
     611
    ],
    "execution_start": 1643560045390,
    "execution_millis": 639,
    "deepnote_cell_type": "code"
   },
   "source": "flarejsondf",
   "execution_count": 55,
   "outputs": [
    {
     "output_type": "execute_result",
     "execution_count": 55,
     "data": {
      "application/vnd.deepnote.dataframe.v3+json": {
       "column_count": 4,
       "row_count": 237,
       "columns": [
        {
         "name": "source",
         "dtype": "object",
         "stats": {
          "unique_count": 237,
          "nan_count": 0,
          "categories": [
           {
            "name": "Gl-663B",
            "count": 1
           },
           {
            "name": "Gl-663A",
            "count": 1
           },
           {
            "name": "235 others",
            "count": 235
           }
          ]
         }
        },
        {
         "name": "targets",
         "dtype": "object",
         "stats": {
          "unique_count": 237,
          "nan_count": 0,
          "categories": [
           {
            "name": "['Gl-663B' 'Gl-663A' 'Gl-664' 'GJ-1224' 'Gl-628' 'Gl-644C' 'Gl-644A'\n 'Gl-643' 'Gl-581' 'Gl-701' 'Gl-673' 'Gl-702B' 'Gl-702A']",
            "count": 3
           },
           {
            "name": "['Gl-191' 'GJ-1061' 'Gl-229' 'Gl-71' 'Gl-144' 'Gl-166C' 'Gl-166B'\n 'Gl-166A' 'Gl-223.2' 'Gl-205' 'Gl-234A' 'NN-3379' 'Gl-213']",
            "count": 3
           },
           {
            "name": "188 others",
            "count": 231
           }
          ]
         }
        },
        {
         "name": "bright",
         "dtype": "object",
         "stats": {
          "unique_count": 131,
          "nan_count": 0,
          "categories": [
           {
            "name": "0.0001",
            "count": 19
           },
           {
            "name": "0.0000",
            "count": 14
           },
           {
            "name": "129 others",
            "count": 204
           }
          ]
         }
        },
        {
         "name": "temp",
         "dtype": "float64",
         "stats": {
          "unique_count": 107,
          "nan_count": 3,
          "min": "2975.0191",
          "max": "9765.8035",
          "histogram": [
           {
            "bin_start": 2975.0191,
            "bin_end": 3654.0975399999998,
            "count": 88
           },
           {
            "bin_start": 3654.0975399999998,
            "bin_end": 4333.17598,
            "count": 79
           },
           {
            "bin_start": 4333.17598,
            "bin_end": 5012.25442,
            "count": 15
           },
           {
            "bin_start": 5012.25442,
            "bin_end": 5691.33286,
            "count": 26
           },
           {
            "bin_start": 5691.33286,
            "bin_end": 6370.4113,
            "count": 11
           },
           {
            "bin_start": 6370.4113,
            "bin_end": 7049.48974,
            "count": 6
           },
           {
            "bin_start": 7049.48974,
            "bin_end": 7728.56818,
            "count": 2
           },
           {
            "bin_start": 7728.56818,
            "bin_end": 8407.64662,
            "count": 4
           },
           {
            "bin_start": 8407.64662,
            "bin_end": 9086.72506,
            "count": 0
           },
           {
            "bin_start": 9086.72506,
            "bin_end": 9765.8035,
            "count": 3
           }
          ]
         }
        },
        {
         "name": "_deepnote_index_column",
         "dtype": "int64"
        }
       ],
       "rows": [
        {
         "source": "Gl-663B",
         "targets": "['Gl-674' 'Gl-754' 'Gl-682' 'Gl-588' 'Gl-618B' 'Gl-618A' 'Gl-667C'\n 'Gl-667A' 'Gl-663B' 'Gl-663A' '…",
         "bright": "0.2228",
         "temp": 5106.1369,
         "_deepnote_index_column": 26
        },
        {
         "source": "Gl-663A",
         "targets": "['Gl-674' 'Gl-754' 'Gl-682' 'Gl-588' 'Gl-618B' 'Gl-618A' 'Gl-667C'\n 'Gl-667A' 'Gl-663B' 'Gl-663A' '…",
         "bright": "0.2312",
         "temp": 5134.3712,
         "_deepnote_index_column": 27
        },
        {
         "source": "Gl-664",
         "targets": "['Gl-674' 'Gl-754' 'Gl-682' 'Gl-588' 'Gl-618B' 'Gl-618A' 'Gl-667C'\n 'Gl-667A' 'Gl-663B' 'Gl-663A' '…",
         "bright": "0.0773",
         "temp": 4388.7408,
         "_deepnote_index_column": 28
        },
        {
         "source": "Gl-674",
         "targets": "['Gl-780' 'Gl-693' 'Gl-845' 'Gl-674' 'Gl-666B' 'Gl-666A' 'Gl-754' 'Gl-784'\n 'Gl-682' 'Gl-588' 'Gl-7…",
         "bright": "0.0032",
         "temp": 3748.934,
         "_deepnote_index_column": 29
        },
        {
         "source": "Gl-729",
         "targets": "['Sun' 'Gl-551' 'Gl-559B' 'Gl-559A' 'Gl-845' 'Gl-674' 'Gl-682' 'Gl-825'\n 'Gl-887' 'Gl-663B' 'Gl-663…",
         "bright": "0.0005",
         "temp": 3490.0442,
         "_deepnote_index_column": 30
        },
        {
         "source": "Gl-860B",
         "targets": "['Gl-820B' 'Gl-820A' 'Gl-15B' 'Gl-15A' 'Gl-905' 'Gl-873' 'GJ-1245A'\n 'GJ-1245B' 'Gl-892' 'Gl-860B' …",
         "bright": "0.0004",
         "temp": 3391.769,
         "_deepnote_index_column": 31
        },
        {
         "source": "Gl-860A",
         "targets": "['Gl-820B' 'Gl-820A' 'Gl-15B' 'Gl-15A' 'Gl-905' 'Gl-873' 'GJ-1245A'\n 'GJ-1245B' 'Gl-892' 'Gl-860B' …",
         "bright": "0.0016",
         "temp": 3621.5071,
         "_deepnote_index_column": 32
        },
        {
         "source": "Gl-234A",
         "targets": "['Gl-229' 'Gl-244B' 'Gl-244A' 'Gl-144' 'Gl-166C' 'Gl-166B' 'Gl-166A'\n 'Gl-223.2' 'Gl-205' 'Gl-234A'…",
         "bright": "0.0005",
         "temp": 3502.7445,
         "_deepnote_index_column": 33
        },
        {
         "source": "Gl-682",
         "targets": "['Gl-780' 'Gl-693' 'Gl-674' 'Gl-666B' 'Gl-666A' 'Gl-754' 'Gl-784' 'Gl-682'\n 'Gl-588' 'Gl-783A' 'Gl-…",
         "bright": "0.0008",
         "temp": 3581.0028,
         "_deepnote_index_column": 34
        },
        {
         "source": "NN-3522",
         "targets": "['Gl-244B' 'Gl-244A' 'NN-3622' 'Gl-234A' 'Gl-447' 'Gl-285' 'Gl-280A'\n 'Gl-273' 'Gl-406' 'NN-3522' '…",
         "bright": "0.0008",
         "temp": 3554.5173,
         "_deepnote_index_column": 35
        }
       ]
      },
      "text/plain": "       source                                            targets  bright  \\\n26    Gl-663B  [Gl-674, Gl-754, Gl-682, Gl-588, Gl-618B, Gl-6...  0.2228   \n27    Gl-663A  [Gl-674, Gl-754, Gl-682, Gl-588, Gl-618B, Gl-6...  0.2312   \n28     Gl-664  [Gl-674, Gl-754, Gl-682, Gl-588, Gl-618B, Gl-6...  0.0773   \n29     Gl-674  [Gl-780, Gl-693, Gl-845, Gl-674, Gl-666B, Gl-6...  0.0032   \n30     Gl-729  [Sun, Gl-551, Gl-559B, Gl-559A, Gl-845, Gl-674...  0.0005   \n..        ...                                                ...     ...   \n258  Gl-791.2                                 [Gl-791.2, Gl-829]  0.0004   \n259    Gl-785                                  [Gl-799A, Gl-785]  0.3767   \n260   NN-4247                                  [Gl-829, NN-4247]  0.0011   \n261   Gl-257A                                          [Gl-257A]  0.0017   \n262    Gl-595                                           [Gl-595]  0.0013   \n\n          temp  \n26   5106.1369  \n27   5134.3712  \n28   4388.7408  \n29   3748.9340  \n30   3490.0442  \n..         ...  \n258  3581.0028  \n259  5050.6447  \n260  3607.9005  \n261  3567.7091  \n262  3649.0419  \n\n[237 rows x 4 columns]",
      "text/html": "<div>\n<style scoped>\n    .dataframe tbody tr th:only-of-type {\n        vertical-align: middle;\n    }\n\n    .dataframe tbody tr th {\n        vertical-align: top;\n    }\n\n    .dataframe thead th {\n        text-align: right;\n    }\n</style>\n<table border=\"1\" class=\"dataframe\">\n  <thead>\n    <tr style=\"text-align: right;\">\n      <th></th>\n      <th>source</th>\n      <th>targets</th>\n      <th>bright</th>\n      <th>temp</th>\n    </tr>\n  </thead>\n  <tbody>\n    <tr>\n      <th>26</th>\n      <td>Gl-663B</td>\n      <td>[Gl-674, Gl-754, Gl-682, Gl-588, Gl-618B, Gl-6...</td>\n      <td>0.2228</td>\n      <td>5106.1369</td>\n    </tr>\n    <tr>\n      <th>27</th>\n      <td>Gl-663A</td>\n      <td>[Gl-674, Gl-754, Gl-682, Gl-588, Gl-618B, Gl-6...</td>\n      <td>0.2312</td>\n      <td>5134.3712</td>\n    </tr>\n    <tr>\n      <th>28</th>\n      <td>Gl-664</td>\n      <td>[Gl-674, Gl-754, Gl-682, Gl-588, Gl-618B, Gl-6...</td>\n      <td>0.0773</td>\n      <td>4388.7408</td>\n    </tr>\n    <tr>\n      <th>29</th>\n      <td>Gl-674</td>\n      <td>[Gl-780, Gl-693, Gl-845, Gl-674, Gl-666B, Gl-6...</td>\n      <td>0.0032</td>\n      <td>3748.9340</td>\n    </tr>\n    <tr>\n      <th>30</th>\n      <td>Gl-729</td>\n      <td>[Sun, Gl-551, Gl-559B, Gl-559A, Gl-845, Gl-674...</td>\n      <td>0.0005</td>\n      <td>3490.0442</td>\n    </tr>\n    <tr>\n      <th>...</th>\n      <td>...</td>\n      <td>...</td>\n      <td>...</td>\n      <td>...</td>\n    </tr>\n    <tr>\n      <th>258</th>\n      <td>Gl-791.2</td>\n      <td>[Gl-791.2, Gl-829]</td>\n      <td>0.0004</td>\n      <td>3581.0028</td>\n    </tr>\n    <tr>\n      <th>259</th>\n      <td>Gl-785</td>\n      <td>[Gl-799A, Gl-785]</td>\n      <td>0.3767</td>\n      <td>5050.6447</td>\n    </tr>\n    <tr>\n      <th>260</th>\n      <td>NN-4247</td>\n      <td>[Gl-829, NN-4247]</td>\n      <td>0.0011</td>\n      <td>3607.9005</td>\n    </tr>\n    <tr>\n      <th>261</th>\n      <td>Gl-257A</td>\n      <td>[Gl-257A]</td>\n      <td>0.0017</td>\n      <td>3567.7091</td>\n    </tr>\n    <tr>\n      <th>262</th>\n      <td>Gl-595</td>\n      <td>[Gl-595]</td>\n      <td>0.0013</td>\n      <td>3649.0419</td>\n    </tr>\n  </tbody>\n</table>\n<p>237 rows × 4 columns</p>\n</div>"
     },
     "metadata": {}
    }
   ]
  },
  {
   "cell_type": "code",
   "metadata": {
    "collapsed": false,
    "cell_id": "00071-ffc90877-dbd0-44e9-9d04-e66133904af1",
    "deepnote_to_be_reexecuted": false,
    "source_hash": "243db2e3",
    "execution_start": 1643560047593,
    "execution_millis": 1,
    "deepnote_cell_type": "code"
   },
   "source": "flarejsondf.reset_index().to_json('dist10df_30.json', orient='records')",
   "execution_count": 56,
   "outputs": []
  },
  {
   "cell_type": "code",
   "metadata": {
    "collapsed": true,
    "cell_id": "00072-0b0c9ad2-4559-4ecd-9f62-727c7f49d646",
    "deepnote_to_be_reexecuted": true,
    "source_hash": "b623e53d",
    "deepnote_cell_type": "code"
   },
   "source": "",
   "execution_count": null,
   "outputs": []
  },
  {
   "cell_type": "markdown",
   "source": "<a style='text-decoration:none;line-height:16px;display:flex;color:#5B5B62;padding:10px;justify-content:end;' href='https://deepnote.com?utm_source=created-in-deepnote-cell&projectId=d32cfec2-50b1-49c8-8e19-ffc8cad5ea31' target=\"_blank\">\n<img alt='Created in deepnote.com' style='display:inline;max-height:16px;margin:0px;margin-right:7.5px;' src='data:image/svg+xml;base64,PD94bWwgdmVyc2lvbj0iMS4wIiBlbmNvZGluZz0iVVRGLTgiPz4KPHN2ZyB3aWR0aD0iODBweCIgaGVpZ2h0PSI4MHB4IiB2aWV3Qm94PSIwIDAgODAgODAiIHZlcnNpb249IjEuMSIgeG1sbnM9Imh0dHA6Ly93d3cudzMub3JnLzIwMDAvc3ZnIiB4bWxuczp4bGluaz0iaHR0cDovL3d3dy53My5vcmcvMTk5OS94bGluayI+CiAgICA8IS0tIEdlbmVyYXRvcjogU2tldGNoIDU0LjEgKDc2NDkwKSAtIGh0dHBzOi8vc2tldGNoYXBwLmNvbSAtLT4KICAgIDx0aXRsZT5Hcm91cCAzPC90aXRsZT4KICAgIDxkZXNjPkNyZWF0ZWQgd2l0aCBTa2V0Y2guPC9kZXNjPgogICAgPGcgaWQ9IkxhbmRpbmciIHN0cm9rZT0ibm9uZSIgc3Ryb2tlLXdpZHRoPSIxIiBmaWxsPSJub25lIiBmaWxsLXJ1bGU9ImV2ZW5vZGQiPgogICAgICAgIDxnIGlkPSJBcnRib2FyZCIgdHJhbnNmb3JtPSJ0cmFuc2xhdGUoLTEyMzUuMDAwMDAwLCAtNzkuMDAwMDAwKSI+CiAgICAgICAgICAgIDxnIGlkPSJHcm91cC0zIiB0cmFuc2Zvcm09InRyYW5zbGF0ZSgxMjM1LjAwMDAwMCwgNzkuMDAwMDAwKSI+CiAgICAgICAgICAgICAgICA8cG9seWdvbiBpZD0iUGF0aC0yMCIgZmlsbD0iIzAyNjVCNCIgcG9pbnRzPSIyLjM3NjIzNzYyIDgwIDM4LjA0NzY2NjcgODAgNTcuODIxNzgyMiA3My44MDU3NTkyIDU3LjgyMTc4MjIgMzIuNzU5MjczOSAzOS4xNDAyMjc4IDMxLjY4MzE2ODMiPjwvcG9seWdvbj4KICAgICAgICAgICAgICAgIDxwYXRoIGQ9Ik0zNS4wMDc3MTgsODAgQzQyLjkwNjIwMDcsNzYuNDU0OTM1OCA0Ny41NjQ5MTY3LDcxLjU0MjI2NzEgNDguOTgzODY2LDY1LjI2MTk5MzkgQzUxLjExMjI4OTksNTUuODQxNTg0MiA0MS42NzcxNzk1LDQ5LjIxMjIyODQgMjUuNjIzOTg0Niw0OS4yMTIyMjg0IEMyNS40ODQ5Mjg5LDQ5LjEyNjg0NDggMjkuODI2MTI5Niw0My4yODM4MjQ4IDM4LjY0NzU4NjksMzEuNjgzMTY4MyBMNzIuODcxMjg3MSwzMi41NTQ0MjUgTDY1LjI4MDk3Myw2Ny42NzYzNDIxIEw1MS4xMTIyODk5LDc3LjM3NjE0NCBMMzUuMDA3NzE4LDgwIFoiIGlkPSJQYXRoLTIyIiBmaWxsPSIjMDAyODY4Ij48L3BhdGg+CiAgICAgICAgICAgICAgICA8cGF0aCBkPSJNMCwzNy43MzA0NDA1IEwyNy4xMTQ1MzcsMC4yNTcxMTE0MzYgQzYyLjM3MTUxMjMsLTEuOTkwNzE3MDEgODAsMTAuNTAwMzkyNyA4MCwzNy43MzA0NDA1IEM4MCw2NC45NjA0ODgyIDY0Ljc3NjUwMzgsNzkuMDUwMzQxNCAzNC4zMjk1MTEzLDgwIEM0Ny4wNTUzNDg5LDc3LjU2NzA4MDggNTMuNDE4MjY3Nyw3MC4zMTM2MTAzIDUzLjQxODI2NzcsNTguMjM5NTg4NSBDNTMuNDE4MjY3Nyw0MC4xMjg1NTU3IDM2LjMwMzk1NDQsMzcuNzMwNDQwNSAyNS4yMjc0MTcsMzcuNzMwNDQwNSBDMTcuODQzMDU4NiwzNy43MzA0NDA1IDkuNDMzOTE5NjYsMzcuNzMwNDQwNSAwLDM3LjczMDQ0MDUgWiIgaWQ9IlBhdGgtMTkiIGZpbGw9IiMzNzkzRUYiPjwvcGF0aD4KICAgICAgICAgICAgPC9nPgogICAgICAgIDwvZz4KICAgIDwvZz4KPC9zdmc+' > </img>\nCreated in <span style='font-weight:600;margin-left:4px;'>Deepnote</span></a>",
   "metadata": {
    "tags": [],
    "created_in_deepnote_cell": true,
    "deepnote_cell_type": "markdown"
   }
  }
 ],
 "nbformat": 4,
 "nbformat_minor": 2,
 "metadata": {
  "kernelspec": {
   "display_name": "Python 2",
   "language": "python",
   "name": "python2"
  },
  "language_info": {
   "codemirror_mode": {
    "name": "ipython",
    "version": 2
   },
   "file_extension": ".py",
   "mimetype": "text/x-python",
   "name": "python",
   "nbconvert_exporter": "python",
   "pygments_lexer": "ipython2",
   "version": "2.7.13"
  },
  "deepnote_notebook_id": "6df044ea-3088-452b-859a-ef98b7d3d793",
  "deepnote": {},
  "deepnote_execution_queue": []
 }
}