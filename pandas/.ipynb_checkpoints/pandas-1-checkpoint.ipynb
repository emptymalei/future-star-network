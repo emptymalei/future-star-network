{
 "cells": [
  {
   "cell_type": "code",
   "execution_count": 4,
   "metadata": {
    "collapsed": true
   },
   "outputs": [],
   "source": [
    "import pandas as pd\n",
    "\n",
    "import numpy as np\n",
    "\n",
    "import matplotlib.pyplot as plt"
   ]
  },
  {
   "cell_type": "markdown",
   "metadata": {},
   "source": [
    "DataFrame returns a table like data format"
   ]
  },
  {
   "cell_type": "code",
   "execution_count": 5,
   "metadata": {
    "collapsed": false
   },
   "outputs": [
    {
     "data": {
      "text/html": [
       "<div>\n",
       "<table border=\"1\" class=\"dataframe\">\n",
       "  <thead>\n",
       "    <tr style=\"text-align: right;\">\n",
       "      <th></th>\n",
       "      <th>A</th>\n",
       "      <th>B</th>\n",
       "      <th>C</th>\n",
       "      <th>D</th>\n",
       "    </tr>\n",
       "  </thead>\n",
       "  <tbody>\n",
       "    <tr>\n",
       "      <th>1</th>\n",
       "      <td>0.925903</td>\n",
       "      <td>0.759078</td>\n",
       "      <td>0.825961</td>\n",
       "      <td>-0.845775</td>\n",
       "    </tr>\n",
       "    <tr>\n",
       "      <th>2</th>\n",
       "      <td>0.477281</td>\n",
       "      <td>-1.003875</td>\n",
       "      <td>0.052313</td>\n",
       "      <td>0.172445</td>\n",
       "    </tr>\n",
       "    <tr>\n",
       "      <th>3</th>\n",
       "      <td>-0.228804</td>\n",
       "      <td>-1.298296</td>\n",
       "      <td>-0.238812</td>\n",
       "      <td>-1.535275</td>\n",
       "    </tr>\n",
       "    <tr>\n",
       "      <th>4</th>\n",
       "      <td>-0.941958</td>\n",
       "      <td>0.830209</td>\n",
       "      <td>-0.343692</td>\n",
       "      <td>-0.406662</td>\n",
       "    </tr>\n",
       "    <tr>\n",
       "      <th>5</th>\n",
       "      <td>0.159589</td>\n",
       "      <td>0.393832</td>\n",
       "      <td>-0.149212</td>\n",
       "      <td>1.440790</td>\n",
       "    </tr>\n",
       "    <tr>\n",
       "      <th>6</th>\n",
       "      <td>0.157302</td>\n",
       "      <td>-0.152311</td>\n",
       "      <td>0.444922</td>\n",
       "      <td>-0.591843</td>\n",
       "    </tr>\n",
       "  </tbody>\n",
       "</table>\n",
       "</div>"
      ],
      "text/plain": [
       "          A         B         C         D\n",
       "1  0.925903  0.759078  0.825961 -0.845775\n",
       "2  0.477281 -1.003875  0.052313  0.172445\n",
       "3 -0.228804 -1.298296 -0.238812 -1.535275\n",
       "4 -0.941958  0.830209 -0.343692 -0.406662\n",
       "5  0.159589  0.393832 -0.149212  1.440790\n",
       "6  0.157302 -0.152311  0.444922 -0.591843"
      ]
     },
     "execution_count": 5,
     "metadata": {},
     "output_type": "execute_result"
    }
   ],
   "source": [
    "pd.DataFrame(np.random.randn(6,4), index=list('123456'), columns=list('ABCD'))"
   ]
  },
  {
   "cell_type": "code",
   "execution_count": null,
   "metadata": {
    "collapsed": true
   },
   "outputs": [],
   "source": []
  }
 ],
 "metadata": {
  "kernelspec": {
   "display_name": "Python 2",
   "language": "python",
   "name": "python2"
  },
  "language_info": {
   "codemirror_mode": {
    "name": "ipython",
    "version": 2
   },
   "file_extension": ".py",
   "mimetype": "text/x-python",
   "name": "python",
   "nbconvert_exporter": "python",
   "pygments_lexer": "ipython2",
   "version": "2.7.13"
  }
 },
 "nbformat": 4,
 "nbformat_minor": 2
}
