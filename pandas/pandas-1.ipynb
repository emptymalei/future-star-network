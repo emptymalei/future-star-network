{
 "cells": [
  {
   "cell_type": "code",
   "execution_count": 3,
   "metadata": {
    "collapsed": true
   },
   "outputs": [],
   "source": [
    "%matplotlib inline"
   ]
  },
  {
   "cell_type": "code",
   "execution_count": 53,
   "metadata": {
    "collapsed": true
   },
   "outputs": [],
   "source": [
    "import pandas as pd\n",
    "\n",
    "import numpy as np\n",
    "\n",
    "import matplotlib.pyplot as plt\n",
    "\n",
    "from scipy.spatial.distance import pdist, squareform\n",
    "\n",
    "import networkx as nx"
   ]
  },
  {
   "cell_type": "markdown",
   "metadata": {},
   "source": [
    "DataFrame returns a table like data format"
   ]
  },
  {
   "cell_type": "code",
   "execution_count": 10,
   "metadata": {
    "collapsed": false
   },
   "outputs": [
    {
     "data": {
      "text/html": [
       "<div>\n",
       "<table border=\"1\" class=\"dataframe\">\n",
       "  <thead>\n",
       "    <tr style=\"text-align: right;\">\n",
       "      <th></th>\n",
       "      <th>A</th>\n",
       "      <th>B</th>\n",
       "      <th>C</th>\n",
       "      <th>D</th>\n",
       "    </tr>\n",
       "  </thead>\n",
       "  <tbody>\n",
       "    <tr>\n",
       "      <th>1</th>\n",
       "      <td>0.207311</td>\n",
       "      <td>-0.945989</td>\n",
       "      <td>0.488309</td>\n",
       "      <td>0.198083</td>\n",
       "    </tr>\n",
       "    <tr>\n",
       "      <th>2</th>\n",
       "      <td>-1.533482</td>\n",
       "      <td>-1.683150</td>\n",
       "      <td>1.656250</td>\n",
       "      <td>0.684431</td>\n",
       "    </tr>\n",
       "    <tr>\n",
       "      <th>3</th>\n",
       "      <td>-0.294305</td>\n",
       "      <td>-0.806522</td>\n",
       "      <td>0.861940</td>\n",
       "      <td>2.004314</td>\n",
       "    </tr>\n",
       "    <tr>\n",
       "      <th>4</th>\n",
       "      <td>0.067318</td>\n",
       "      <td>0.393742</td>\n",
       "      <td>1.088052</td>\n",
       "      <td>-0.439445</td>\n",
       "    </tr>\n",
       "    <tr>\n",
       "      <th>5</th>\n",
       "      <td>0.365503</td>\n",
       "      <td>-0.639364</td>\n",
       "      <td>-0.643751</td>\n",
       "      <td>2.584078</td>\n",
       "    </tr>\n",
       "    <tr>\n",
       "      <th>6</th>\n",
       "      <td>-1.176869</td>\n",
       "      <td>-1.099096</td>\n",
       "      <td>-1.471023</td>\n",
       "      <td>0.867743</td>\n",
       "    </tr>\n",
       "  </tbody>\n",
       "</table>\n",
       "</div>"
      ],
      "text/plain": [
       "          A         B         C         D\n",
       "1  0.207311 -0.945989  0.488309  0.198083\n",
       "2 -1.533482 -1.683150  1.656250  0.684431\n",
       "3 -0.294305 -0.806522  0.861940  2.004314\n",
       "4  0.067318  0.393742  1.088052 -0.439445\n",
       "5  0.365503 -0.639364 -0.643751  2.584078\n",
       "6 -1.176869 -1.099096 -1.471023  0.867743"
      ]
     },
     "execution_count": 10,
     "metadata": {},
     "output_type": "execute_result"
    }
   ],
   "source": [
    "data=pd.DataFrame(np.random.randn(6,4), index=list('123456'), columns=list('ABCD'))\n",
    "data"
   ]
  },
  {
   "cell_type": "code",
   "execution_count": 11,
   "metadata": {
    "collapsed": false
   },
   "outputs": [
    {
     "data": {
      "text/plain": [
       "<matplotlib.axes._subplots.AxesSubplot at 0x111eda4d0>"
      ]
     },
     "execution_count": 11,
     "metadata": {},
     "output_type": "execute_result"
    },
    {
     "data": {
      "image/png": "[encoded data removed]",
      "text/plain": [
       "<matplotlib.figure.Figure at 0x111e438d0>"
      ]
     },
     "metadata": {},
     "output_type": "display_data"
    }
   ],
   "source": [
    "data.plot.hist(alpha=0.5)"
   ]
  },
  {
   "cell_type": "markdown",
   "metadata": {
    "collapsed": true
   },
   "source": [
    "I can calculate the correlations"
   ]
  },
  {
   "cell_type": "code",
   "execution_count": 12,
   "metadata": {
    "collapsed": true
   },
   "outputs": [],
   "source": [
    "distance = lambda rowa, rowb: (rowa - rowb).abs().sum() / len(rowa)"
   ]
  },
  {
   "cell_type": "code",
   "execution_count": 14,
   "metadata": {
    "collapsed": false
   },
   "outputs": [
    {
     "data": {
      "text/html": [
       "<div>\n",
       "<table border=\"1\" class=\"dataframe\">\n",
       "  <thead>\n",
       "    <tr style=\"text-align: right;\">\n",
       "      <th></th>\n",
       "      <th>A</th>\n",
       "      <th>B</th>\n",
       "      <th>C</th>\n",
       "      <th>D</th>\n",
       "    </tr>\n",
       "  </thead>\n",
       "  <tbody>\n",
       "    <tr>\n",
       "      <th>A</th>\n",
       "      <td>0.000000</td>\n",
       "      <td>0.537375</td>\n",
       "      <td>1.158519</td>\n",
       "      <td>1.549285</td>\n",
       "    </tr>\n",
       "    <tr>\n",
       "      <th>B</th>\n",
       "      <td>0.537375</td>\n",
       "      <td>0.000000</td>\n",
       "      <td>1.252131</td>\n",
       "      <td>2.057660</td>\n",
       "    </tr>\n",
       "    <tr>\n",
       "      <th>C</th>\n",
       "      <td>1.158519</td>\n",
       "      <td>1.252131</td>\n",
       "      <td>0.000000</td>\n",
       "      <td>1.583085</td>\n",
       "    </tr>\n",
       "    <tr>\n",
       "      <th>D</th>\n",
       "      <td>1.549285</td>\n",
       "      <td>2.057660</td>\n",
       "      <td>1.583085</td>\n",
       "      <td>0.000000</td>\n",
       "    </tr>\n",
       "  </tbody>\n",
       "</table>\n",
       "</div>"
      ],
      "text/plain": [
       "          A         B         C         D\n",
       "A  0.000000  0.537375  1.158519  1.549285\n",
       "B  0.537375  0.000000  1.252131  2.057660\n",
       "C  1.158519  1.252131  0.000000  1.583085\n",
       "D  1.549285  2.057660  1.583085  0.000000"
      ]
     },
     "execution_count": 14,
     "metadata": {},
     "output_type": "execute_result"
    }
   ],
   "source": [
    "data.apply(lambda rowa: data.apply(lambda rowb: distance(rowa, rowb)))"
   ]
  },
  {
   "cell_type": "code",
   "execution_count": 17,
   "metadata": {
    "collapsed": true
   },
   "outputs": [],
   "source": [
    "pdistsci = pdist(data.values, metric='euclidean')\n",
    "DistMatrix = squareform(pdistsci)"
   ]
  },
  {
   "cell_type": "code",
   "execution_count": 19,
   "metadata": {
    "collapsed": false
   },
   "outputs": [
    {
     "data": {
      "text/plain": [
       "array([[ 0.20731141, -0.94598913,  0.48830863,  0.19808322],\n",
       "       [-1.5334825 , -1.68315039,  1.65625024,  0.68443063],\n",
       "       [-0.29430495, -0.806522  ,  0.86194035,  2.00431378],\n",
       "       [ 0.06731836,  0.3937419 ,  1.08805171, -0.43944483],\n",
       "       [ 0.36550289, -0.6393642 , -0.64375062,  2.58407835],\n",
       "       [-1.17686944, -1.09909634, -1.47102294,  0.86774286]])"
      ]
     },
     "execution_count": 19,
     "metadata": {},
     "output_type": "execute_result"
    }
   ],
   "source": [
    "data.values"
   ]
  },
  {
   "cell_type": "markdown",
   "metadata": {},
   "source": [
    "I want to test the pdist function in scipy"
   ]
  },
  {
   "cell_type": "code",
   "execution_count": 32,
   "metadata": {
    "collapsed": false,
    "scrolled": true
   },
   "outputs": [
    {
     "name": "stdout",
     "output_type": "stream",
     "text": [
      "[[1 2 3 4]\n",
      " [2 3 4 5]\n",
      " [3 4 5 6]]\n"
     ]
    }
   ],
   "source": [
    "distdata=np.array([[1,2,3,4],[2,3,4,5],[3,4,5,6]])\n",
    "print distdata"
   ]
  },
  {
   "cell_type": "code",
   "execution_count": 39,
   "metadata": {
    "collapsed": false
   },
   "outputs": [
    {
     "data": {
      "text/plain": [
       "array([[ 0.,  2.,  4.],\n",
       "       [ 2.,  0.,  2.],\n",
       "       [ 4.,  2.,  0.]])"
      ]
     },
     "execution_count": 39,
     "metadata": {},
     "output_type": "execute_result"
    }
   ],
   "source": [
    "squareform( pdist(distdata, metric='euclidean') )"
   ]
  },
  {
   "cell_type": "markdown",
   "metadata": {},
   "source": [
    "Seems to be working as the distances "
   ]
  },
  {
   "cell_type": "code",
   "execution_count": 40,
   "metadata": {
    "collapsed": false
   },
   "outputs": [
    {
     "data": {
      "text/plain": [
       "array([[ 0.        ,  2.2747289 ,  1.91654365,  1.60642805,  2.66337648,\n",
       "         2.49536023],\n",
       "       [ 2.2747289 ,  0.        ,  2.16265071,  2.90895008,  3.68704496,\n",
       "         3.20651414],\n",
       "       [ 1.91654365,  2.16265071,  0.        ,  2.75580974,  1.7511483 ,\n",
       "         2.756634  ],\n",
       "       [ 1.60642805,  2.90895008,  2.75580974,  0.        ,  3.64651257,\n",
       "         3.46903041],\n",
       "       [ 2.66337648,  3.68704496,  1.7511483 ,  3.64651257,  0.        ,\n",
       "         2.49408361],\n",
       "       [ 2.49536023,  3.20651414,  2.756634  ,  3.46903041,  2.49408361,\n",
       "         0.        ]])"
      ]
     },
     "execution_count": 40,
     "metadata": {},
     "output_type": "execute_result"
    }
   ],
   "source": [
    "squareform( pdist(data.values, metric='euclidean') )"
   ]
  },
  {
   "cell_type": "code",
   "execution_count": 41,
   "metadata": {
    "collapsed": false
   },
   "outputs": [
    {
     "data": {
      "text/html": [
       "<div>\n",
       "<table border=\"1\" class=\"dataframe\">\n",
       "  <thead>\n",
       "    <tr style=\"text-align: right;\">\n",
       "      <th></th>\n",
       "      <th>1</th>\n",
       "      <th>2</th>\n",
       "      <th>3</th>\n",
       "      <th>4</th>\n",
       "      <th>5</th>\n",
       "      <th>6</th>\n",
       "    </tr>\n",
       "  </thead>\n",
       "  <tbody>\n",
       "    <tr>\n",
       "      <th>1</th>\n",
       "      <td>0.000000</td>\n",
       "      <td>2.274729</td>\n",
       "      <td>1.916544</td>\n",
       "      <td>1.606428</td>\n",
       "      <td>2.663376</td>\n",
       "      <td>2.495360</td>\n",
       "    </tr>\n",
       "    <tr>\n",
       "      <th>2</th>\n",
       "      <td>2.274729</td>\n",
       "      <td>0.000000</td>\n",
       "      <td>2.162651</td>\n",
       "      <td>2.908950</td>\n",
       "      <td>3.687045</td>\n",
       "      <td>3.206514</td>\n",
       "    </tr>\n",
       "    <tr>\n",
       "      <th>3</th>\n",
       "      <td>1.916544</td>\n",
       "      <td>2.162651</td>\n",
       "      <td>0.000000</td>\n",
       "      <td>2.755810</td>\n",
       "      <td>1.751148</td>\n",
       "      <td>2.756634</td>\n",
       "    </tr>\n",
       "    <tr>\n",
       "      <th>4</th>\n",
       "      <td>1.606428</td>\n",
       "      <td>2.908950</td>\n",
       "      <td>2.755810</td>\n",
       "      <td>0.000000</td>\n",
       "      <td>3.646513</td>\n",
       "      <td>3.469030</td>\n",
       "    </tr>\n",
       "    <tr>\n",
       "      <th>5</th>\n",
       "      <td>2.663376</td>\n",
       "      <td>3.687045</td>\n",
       "      <td>1.751148</td>\n",
       "      <td>3.646513</td>\n",
       "      <td>0.000000</td>\n",
       "      <td>2.494084</td>\n",
       "    </tr>\n",
       "    <tr>\n",
       "      <th>6</th>\n",
       "      <td>2.495360</td>\n",
       "      <td>3.206514</td>\n",
       "      <td>2.756634</td>\n",
       "      <td>3.469030</td>\n",
       "      <td>2.494084</td>\n",
       "      <td>0.000000</td>\n",
       "    </tr>\n",
       "  </tbody>\n",
       "</table>\n",
       "</div>"
      ],
      "text/plain": [
       "          1         2         3         4         5         6\n",
       "1  0.000000  2.274729  1.916544  1.606428  2.663376  2.495360\n",
       "2  2.274729  0.000000  2.162651  2.908950  3.687045  3.206514\n",
       "3  1.916544  2.162651  0.000000  2.755810  1.751148  2.756634\n",
       "4  1.606428  2.908950  2.755810  0.000000  3.646513  3.469030\n",
       "5  2.663376  3.687045  1.751148  3.646513  0.000000  2.494084\n",
       "6  2.495360  3.206514  2.756634  3.469030  2.494084  0.000000"
      ]
     },
     "execution_count": 41,
     "metadata": {},
     "output_type": "execute_result"
    }
   ],
   "source": [
    "pd.DataFrame(squareform( pdist(data.values, metric='euclidean') ), index=list('123456'), columns=list('123456'))"
   ]
  },
  {
   "cell_type": "markdown",
   "metadata": {},
   "source": [
    "I can select the first two cols"
   ]
  },
  {
   "cell_type": "code",
   "execution_count": 49,
   "metadata": {
    "collapsed": false
   },
   "outputs": [
    {
     "data": {
      "text/html": [
       "<div>\n",
       "<table border=\"1\" class=\"dataframe\">\n",
       "  <thead>\n",
       "    <tr style=\"text-align: right;\">\n",
       "      <th></th>\n",
       "      <th>A</th>\n",
       "      <th>B</th>\n",
       "    </tr>\n",
       "  </thead>\n",
       "  <tbody>\n",
       "    <tr>\n",
       "      <th>1</th>\n",
       "      <td>0.207311</td>\n",
       "      <td>-0.945989</td>\n",
       "    </tr>\n",
       "    <tr>\n",
       "      <th>2</th>\n",
       "      <td>-1.533482</td>\n",
       "      <td>-1.683150</td>\n",
       "    </tr>\n",
       "    <tr>\n",
       "      <th>3</th>\n",
       "      <td>-0.294305</td>\n",
       "      <td>-0.806522</td>\n",
       "    </tr>\n",
       "    <tr>\n",
       "      <th>4</th>\n",
       "      <td>0.067318</td>\n",
       "      <td>0.393742</td>\n",
       "    </tr>\n",
       "    <tr>\n",
       "      <th>5</th>\n",
       "      <td>0.365503</td>\n",
       "      <td>-0.639364</td>\n",
       "    </tr>\n",
       "    <tr>\n",
       "      <th>6</th>\n",
       "      <td>-1.176869</td>\n",
       "      <td>-1.099096</td>\n",
       "    </tr>\n",
       "  </tbody>\n",
       "</table>\n",
       "</div>"
      ],
      "text/plain": [
       "          A         B\n",
       "1  0.207311 -0.945989\n",
       "2 -1.533482 -1.683150\n",
       "3 -0.294305 -0.806522\n",
       "4  0.067318  0.393742\n",
       "5  0.365503 -0.639364\n",
       "6 -1.176869 -1.099096"
      ]
     },
     "execution_count": 49,
     "metadata": {},
     "output_type": "execute_result"
    }
   ],
   "source": [
    "pd.DataFrame(data[['A','B']].values,index=list('123456'),columns=list('AB'))"
   ]
  },
  {
   "cell_type": "code",
   "execution_count": 51,
   "metadata": {
    "collapsed": false
   },
   "outputs": [
    {
     "data": {
      "text/html": [
       "<div>\n",
       "<table border=\"1\" class=\"dataframe\">\n",
       "  <thead>\n",
       "    <tr style=\"text-align: right;\">\n",
       "      <th></th>\n",
       "      <th>1</th>\n",
       "      <th>2</th>\n",
       "      <th>3</th>\n",
       "      <th>4</th>\n",
       "      <th>5</th>\n",
       "      <th>6</th>\n",
       "    </tr>\n",
       "  </thead>\n",
       "  <tbody>\n",
       "    <tr>\n",
       "      <th>1</th>\n",
       "      <td>0.000000</td>\n",
       "      <td>1.890442</td>\n",
       "      <td>0.520644</td>\n",
       "      <td>1.347025</td>\n",
       "      <td>0.345027</td>\n",
       "      <td>1.392623</td>\n",
       "    </tr>\n",
       "    <tr>\n",
       "      <th>2</th>\n",
       "      <td>1.890442</td>\n",
       "      <td>0.000000</td>\n",
       "      <td>1.517906</td>\n",
       "      <td>2.622221</td>\n",
       "      <td>2.166941</td>\n",
       "      <td>0.684319</td>\n",
       "    </tr>\n",
       "    <tr>\n",
       "      <th>3</th>\n",
       "      <td>0.520644</td>\n",
       "      <td>1.517906</td>\n",
       "      <td>0.000000</td>\n",
       "      <td>1.253557</td>\n",
       "      <td>0.680653</td>\n",
       "      <td>0.929796</td>\n",
       "    </tr>\n",
       "    <tr>\n",
       "      <th>4</th>\n",
       "      <td>1.347025</td>\n",
       "      <td>2.622221</td>\n",
       "      <td>1.253557</td>\n",
       "      <td>0.000000</td>\n",
       "      <td>1.075278</td>\n",
       "      <td>1.943340</td>\n",
       "    </tr>\n",
       "    <tr>\n",
       "      <th>5</th>\n",
       "      <td>0.345027</td>\n",
       "      <td>2.166941</td>\n",
       "      <td>0.680653</td>\n",
       "      <td>1.075278</td>\n",
       "      <td>0.000000</td>\n",
       "      <td>1.609430</td>\n",
       "    </tr>\n",
       "    <tr>\n",
       "      <th>6</th>\n",
       "      <td>1.392623</td>\n",
       "      <td>0.684319</td>\n",
       "      <td>0.929796</td>\n",
       "      <td>1.943340</td>\n",
       "      <td>1.609430</td>\n",
       "      <td>0.000000</td>\n",
       "    </tr>\n",
       "  </tbody>\n",
       "</table>\n",
       "</div>"
      ],
      "text/plain": [
       "          1         2         3         4         5         6\n",
       "1  0.000000  1.890442  0.520644  1.347025  0.345027  1.392623\n",
       "2  1.890442  0.000000  1.517906  2.622221  2.166941  0.684319\n",
       "3  0.520644  1.517906  0.000000  1.253557  0.680653  0.929796\n",
       "4  1.347025  2.622221  1.253557  0.000000  1.075278  1.943340\n",
       "5  0.345027  2.166941  0.680653  1.075278  0.000000  1.609430\n",
       "6  1.392623  0.684319  0.929796  1.943340  1.609430  0.000000"
      ]
     },
     "execution_count": 51,
     "metadata": {},
     "output_type": "execute_result"
    }
   ],
   "source": [
    "pd.DataFrame(squareform( pdist(data[['A','B']].values, metric='euclidean') ), index=list('123456'), columns=list('123456'))"
   ]
  },
  {
   "cell_type": "markdown",
   "metadata": {},
   "source": [
    "Practice flatten"
   ]
  },
  {
   "cell_type": "code",
   "execution_count": 52,
   "metadata": {
    "collapsed": false
   },
   "outputs": [
    {
     "data": {
      "text/plain": [
       "array([ 0.20731141, -0.94598913,  0.48830863,  0.19808322, -1.5334825 ,\n",
       "       -1.68315039,  1.65625024,  0.68443063, -0.29430495, -0.806522  ,\n",
       "        0.86194035,  2.00431378,  0.06731836,  0.3937419 ,  1.08805171,\n",
       "       -0.43944483,  0.36550289, -0.6393642 , -0.64375062,  2.58407835,\n",
       "       -1.17686944, -1.09909634, -1.47102294,  0.86774286])"
      ]
     },
     "execution_count": 52,
     "metadata": {},
     "output_type": "execute_result"
    }
   ],
   "source": [
    "data.values.flatten()"
   ]
  },
  {
   "cell_type": "markdown",
   "metadata": {},
   "source": [
    "Combine with NetworkX"
   ]
  },
  {
   "cell_type": "code",
   "execution_count": 61,
   "metadata": {
    "collapsed": false
   },
   "outputs": [
    {
     "data": {
      "text/html": [
       "<div>\n",
       "<table border=\"1\" class=\"dataframe\">\n",
       "  <thead>\n",
       "    <tr style=\"text-align: right;\">\n",
       "      <th></th>\n",
       "      <th>weight</th>\n",
       "      <th>cost</th>\n",
       "      <th>a</th>\n",
       "      <th>b</th>\n",
       "    </tr>\n",
       "  </thead>\n",
       "  <tbody>\n",
       "    <tr>\n",
       "      <th>0</th>\n",
       "      <td>4</td>\n",
       "      <td>7</td>\n",
       "      <td>A</td>\n",
       "      <td>D</td>\n",
       "    </tr>\n",
       "    <tr>\n",
       "      <th>1</th>\n",
       "      <td>7</td>\n",
       "      <td>1</td>\n",
       "      <td>B</td>\n",
       "      <td>A</td>\n",
       "    </tr>\n",
       "    <tr>\n",
       "      <th>2</th>\n",
       "      <td>9</td>\n",
       "      <td>5</td>\n",
       "      <td>C</td>\n",
       "      <td>E</td>\n",
       "    </tr>\n",
       "  </tbody>\n",
       "</table>\n",
       "</div>"
      ],
      "text/plain": [
       "   weight  cost  a  b\n",
       "0       4     7  A  D\n",
       "1       7     1  B  A\n",
       "2       9     5  C  E"
      ]
     },
     "execution_count": 61,
     "metadata": {},
     "output_type": "execute_result"
    }
   ],
   "source": [
    "r = np.random.RandomState(seed=5)\n",
    "ints = r.randint(1, 10, size=(3,2))\n",
    "a = ['A', 'B', 'C']\n",
    "b = ['D', 'A', 'E']\n",
    "df = pd.DataFrame(ints, columns=['weight', 'cost'])\n",
    "df['a'] = a\n",
    "df['b'] = b\n",
    "df"
   ]
  },
  {
   "cell_type": "code",
   "execution_count": 62,
   "metadata": {
    "collapsed": false
   },
   "outputs": [
    {
     "name": "stdout",
     "output_type": "stream",
     "text": [
      "9 5\n"
     ]
    }
   ],
   "source": [
    "G=nx.from_pandas_dataframe(df, 'a', 'b', ['weight', 'cost'])\n",
    "print G['E']['C']['weight'], G['E']['C']['cost']\n"
   ]
  },
  {
   "cell_type": "code",
   "execution_count": null,
   "metadata": {
    "collapsed": true
   },
   "outputs": [],
   "source": []
  }
 ],
 "metadata": {
  "kernelspec": {
   "display_name": "Python 2",
   "language": "python",
   "name": "python2"
  },
  "language_info": {
   "codemirror_mode": {
    "name": "ipython",
    "version": 2
   },
   "file_extension": ".py",
   "mimetype": "text/x-python",
   "name": "python",
   "nbconvert_exporter": "python",
   "pygments_lexer": "ipython2",
   "version": "2.7.13"
  }
 },
 "nbformat": 4,
 "nbformat_minor": 2
}
